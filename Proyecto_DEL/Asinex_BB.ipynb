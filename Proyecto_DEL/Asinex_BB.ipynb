{
 "cells": [
  {
   "cell_type": "code",
   "execution_count": 120,
   "id": "25ed9f63",
   "metadata": {},
   "outputs": [],
   "source": [
    "import pandas as pd\n",
    "from ClickReaction import CuAAC\n",
    "import rdkit as rk\n",
    "from PIL import Image  # Import PIL for visualization\n",
    "from rdkit import Chem\n",
    "from IPython.display import display\n",
    "from rdkit.Chem import AllChem, Draw\n",
    "from rdkit.Chem.rdMolDescriptors import CalcNumHeteroatoms\n",
    "import random #library for the generation of DNA Tags\n",
    "from openpyxl import Workbook\n",
    "from rdkit.Chem import SDMolSupplier, SDWriter\n",
    "from rdkit.Chem import rdChemReactions\n",
    "from rdkit.Chem.Draw import IPythonConsole  # Ensures images render properly\n",
    "from ClickReaction.BaseReaction import BaseReaction, Reactant, Reactants\n",
    "from rdkit.Chem import PandasTools\n",
    "from rdkit import DataStructs\n",
    "import numpy as np"
   ]
  },
  {
   "cell_type": "code",
   "execution_count": 66,
   "id": "1d885482",
   "metadata": {},
   "outputs": [],
   "source": [
    "# Function to classify compounds based on functional groups\n",
    "def classify_compound(mol):\n",
    "    if mol.HasSubstructMatch(Chem.MolFromSmarts(\"[CX3](=O)[OX2H]\")):\n",
    "        return \"Carboxylic Acid\"\n",
    "    elif mol.HasSubstructMatch(Chem.MolFromSmarts(\"[OX2H]\")):\n",
    "        return \"Alcohol\"\n",
    "    elif mol.HasSubstructMatch(Chem.MolFromSmarts(\"[NX3;H2,H1]\")):\n",
    "        return \"Amine\"\n",
    "    elif mol.HasSubstructMatch(Chem.MolFromSmarts(\"[Cl,Br,I]\")):\n",
    "        return \"Halogen\"\n",
    "    elif mol.HasSubstructMatch(Chem.MolFromSmarts(\"[CX3](=O)[OX2][CX4]\")):\n",
    "        return \"Ester\"\n",
    "    else:\n",
    "        return \"Other\""
   ]
  },
  {
   "cell_type": "code",
   "execution_count": 53,
   "id": "b0e34d61",
   "metadata": {},
   "outputs": [],
   "source": [
    "def classify_amine(mol):\n",
    "    if mol.HasSubstructMatch(Chem.MolFromSmarts(\"[NX3;H2]\")):\n",
    "        return \"Primary Amine\"\n",
    "    elif mol.HasSubstructMatch(Chem.MolFromSmarts(\"[NX3;H1]\")):\n",
    "        return \"Secondary Amine\"\n",
    "    else:\n",
    "        return \"Other\""
   ]
  },
  {
   "cell_type": "code",
   "execution_count": 3,
   "id": "b93bdc00",
   "metadata": {},
   "outputs": [
    {
     "name": "stdout",
     "output_type": "stream",
     "text": [
      "Classification completed. Results saved in 'classified_compounds.csv'\n"
     ]
    }
   ],
   "source": [
    "# Load SDF file\n",
    "sdf_file = \"AsinexDNA-encoded libraries.sdf\"  # Change this to your SDF file path\n",
    "supplier = Chem.SDMolSupplier(sdf_file)"
   ]
  },
  {
   "cell_type": "code",
   "execution_count": 81,
   "id": "84fda08d",
   "metadata": {},
   "outputs": [],
   "source": [
    "# Create lists to store results\n",
    "alcohols = []\n",
    "carboxylic_acids = []\n",
    "amines = []\n",
    "halogens = []\n",
    "esters = []\n",
    "primary_NH2 = []\n",
    "secondary_NH = []\n",
    "others = []\n",
    "\n",
    "for mol in supplier:\n",
    "    if mol is not None:\n",
    "        smiles = Chem.MolToSmiles(mol)\n",
    "        classification = classify_compound(mol)\n",
    "        \n",
    "        if classification == \"Halogen\":\n",
    "            halogens.append(Chem.MolFromSmiles(smiles)) \n",
    "        elif classification == \"Carboxylic Acid\":\n",
    "            carboxylic_acids.append(Chem.MolFromSmiles(smiles))\n",
    "        elif classification == \"Amine\":\n",
    "            amines.append(Chem.MolFromSmiles(smiles))\n",
    "        elif classification == \"Alcohol\":\n",
    "            alcohols.append(Chem.MolFromSmiles(smiles))\n",
    "        elif classification == \"Ester\":\n",
    "            esters.append(Chem.MolFromSmiles(smiles))\n",
    "        else:\n",
    "            others.append(Chem.MolFromSmiles(smiles))\n",
    "            \n",
    "for amine in amines:\n",
    "    if amine is not None:\n",
    "        amine_classification = classify_amine(amine)\n",
    "        if amine_classification == \"Primary Amine\":\n",
    "                primary_NH2.append(amine)\n",
    "        elif amine_classification == \"Secondary Amine\":\n",
    "                secondary_NH.append(amine)\n",
    "        else:\n",
    "                others.append(amine)"
   ]
  },
  {
   "cell_type": "code",
   "execution_count": 82,
   "id": "9f483735",
   "metadata": {},
   "outputs": [
    {
     "name": "stdout",
     "output_type": "stream",
     "text": [
      "OH: 262\n",
      "R-NH2: 102\n",
      "R-NH-R: 158\n",
      "COOH: 795\n",
      "Halogens 46\n",
      "Esters 14\n"
     ]
    }
   ],
   "source": [
    "print(\"OH:\",len(alcohols))\n",
    "print(\"R-NH2:\", len(primary_NH2))\n",
    "print(\"R-NH-R:\", len(secondary_NH))\n",
    "print(\"COOH:\",len(carboxylic_acids))\n",
    "print(\"Halogens\",len(halogens))\n",
    "print(\"Esters\",len(esters))"
   ]
  },
  {
   "cell_type": "code",
   "execution_count": 76,
   "id": "a839e187",
   "metadata": {},
   "outputs": [],
   "source": [
    "pd.DataFrame(alcohols, columns=[\"SMILES\"]).to_csv(\"alcohols.csv\", index=False)"
   ]
  },
  {
   "cell_type": "code",
   "execution_count": 78,
   "id": "323d5a81",
   "metadata": {},
   "outputs": [],
   "source": [
    "alcohol_smiles = []\n",
    "\n",
    "for i in alcohols:\n",
    "    alcohol_smiles.append(Chem.MolToSmiles(i))\n",
    "\n",
    "pd.DataFrame(alcohol_smiles, columns=[\"SMILES\"]).to_csv(\"alcohols.csv\", index=False)"
   ]
  },
  {
   "cell_type": "code",
   "execution_count": 108,
   "id": "c029dfda",
   "metadata": {},
   "outputs": [],
   "source": [
    "def alcohol_classifier(mol):\n",
    "    if mol.HasSubstructMatch(Chem.MolFromSmarts(\"[Cl,Br,I]\")):\n",
    "        return \"Halogen_alcohol\"\n",
    "    elif mol.HasSubstructMatch(Chem.MolFromSmarts(\"[NX3;H2,H1]\")):\n",
    "        return \"Amine\""
   ]
  },
  {
   "cell_type": "code",
   "execution_count": 109,
   "id": "18b34a78",
   "metadata": {},
   "outputs": [
    {
     "name": "stdout",
     "output_type": "stream",
     "text": [
      "OH_halogen: 33 alcohols: 262\n"
     ]
    }
   ],
   "source": [
    "OH_halogen = []\n",
    "OH_NH = []\n",
    "\n",
    "for alcohol in alcohols:\n",
    "    classification = alcohol_classifier(alcohol)\n",
    "    \n",
    "    if classification == \"Halogen_alcohol\":\n",
    "        OH_halogen.append(alcohol)\n",
    "    elif classification == \"amine\":\n",
    "        OH_NH.append(alcohol)\n",
    "        \n",
    "        \n",
    "print(\"OH_halogen:\", len(OH_halogen), \"alcohols:\", len(alcohols))"
   ]
  },
  {
   "cell_type": "code",
   "execution_count": 129,
   "id": "f5c577d8",
   "metadata": {},
   "outputs": [],
   "source": [
    "def perform_sn2(nucleophile, electrophile):\n",
    "    rxn = AllChem.ReactionFromSmarts(\"[NX3;H2:1].[CX4:2][Cl,Br]>>[NX3:1][CX4:2]\")\n",
    "    products = rxn.RunReactants((nucleophile, electrophile))\n",
    "    return [Chem.MolToSmiles(prod[0]) for prod in products] if products else []"
   ]
  },
  {
   "cell_type": "code",
   "execution_count": 132,
   "id": "3ccded38",
   "metadata": {},
   "outputs": [],
   "source": [
    "# Perform reactions and store results\n",
    "products = []\n",
    "for nu in amines:\n",
    "    for el in halogens:\n",
    "        products.extend(perform_sn2(nu, el))"
   ]
  },
  {
   "cell_type": "code",
   "execution_count": 133,
   "id": "123563a9",
   "metadata": {},
   "outputs": [
    {
     "data": {
      "text/plain": [
       "[]"
      ]
     },
     "execution_count": 133,
     "metadata": {},
     "output_type": "execute_result"
    }
   ],
   "source": [
    "products"
   ]
  },
  {
   "cell_type": "code",
   "execution_count": null,
   "id": "3309f491",
   "metadata": {},
   "outputs": [],
   "source": []
  }
 ],
 "metadata": {
  "kernelspec": {
   "display_name": "Python 3 (ipykernel)",
   "language": "python",
   "name": "python3"
  },
  "language_info": {
   "codemirror_mode": {
    "name": "ipython",
    "version": 3
   },
   "file_extension": ".py",
   "mimetype": "text/x-python",
   "name": "python",
   "nbconvert_exporter": "python",
   "pygments_lexer": "ipython3",
   "version": "3.9.18"
  }
 },
 "nbformat": 4,
 "nbformat_minor": 5
}
