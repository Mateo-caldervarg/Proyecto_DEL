{
 "cells": [
  {
   "cell_type": "code",
   "execution_count": 2,
   "id": "25ed9f63",
   "metadata": {},
   "outputs": [],
   "source": [
    "import pandas as pd\n",
    "from ClickReaction import CuAAC\n",
    "import rdkit as rk\n",
    "from PIL import Image  # Import PIL for visualization\n",
    "from rdkit import Chem\n",
    "from IPython.display import display\n",
    "from rdkit.Chem import AllChem, Draw\n",
    "from rdkit.Chem.rdMolDescriptors import CalcNumHeteroatoms\n",
    "import random #library for the generation of DNA Tags\n",
    "from openpyxl import Workbook\n",
    "from rdkit.Chem import SDMolSupplier, SDWriter\n",
    "from rdkit.Chem import rdChemReactions\n",
    "from rdkit.Chem.Draw import IPythonConsole  # Ensures images render properly\n",
    "from ClickReaction.BaseReaction import BaseReaction, Reactant, Reactants\n",
    "from rdkit.Chem import PandasTools\n",
    "from rdkit import DataStructs\n",
    "import numpy as np"
   ]
  },
  {
   "cell_type": "code",
   "execution_count": 3,
   "id": "1d885482",
   "metadata": {},
   "outputs": [],
   "source": [
    "# Function to classify compounds based on functional groups\n",
    "def classify_compound(mol):\n",
    "    if mol.HasSubstructMatch(Chem.MolFromSmarts(\"[CX3](=O)[OX2H]\")):\n",
    "        return \"Carboxylic Acid\"\n",
    "    elif mol.HasSubstructMatch(Chem.MolFromSmarts(\"[OX2H]\")):\n",
    "        return \"Alcohol\"\n",
    "    elif mol.HasSubstructMatch(Chem.MolFromSmarts(\"[NX3;H2,H1]\")):\n",
    "        return \"Amine\"\n",
    "    elif mol.HasSubstructMatch(Chem.MolFromSmarts(\"[Cl,Br,I]\")):\n",
    "        return \"Halogen\"\n",
    "    elif mol.HasSubstructMatch(Chem.MolFromSmarts(\"[CX3](=O)[OX2][CX4]\")):\n",
    "        return \"Ester\"\n",
    "    else:\n",
    "        return \"Other\""
   ]
  },
  {
   "cell_type": "code",
   "execution_count": 4,
   "id": "b0e34d61",
   "metadata": {},
   "outputs": [],
   "source": [
    "def classify_amine(mol):\n",
    "    if mol.HasSubstructMatch(Chem.MolFromSmarts(\"[NX3;H2]\")):\n",
    "        return \"Primary Amine\"\n",
    "    elif mol.HasSubstructMatch(Chem.MolFromSmarts(\"[NX3;H1]\")):\n",
    "        return \"Secondary Amine\"\n",
    "    else:\n",
    "        return \"Other\""
   ]
  },
  {
   "cell_type": "code",
   "execution_count": 5,
   "id": "b93bdc00",
   "metadata": {},
   "outputs": [],
   "source": [
    "# Load SDF file\n",
    "sdf_file = \"AsinexDNA-encoded libraries.sdf\"  # Change this to your SDF file path\n",
    "supplier = Chem.SDMolSupplier(sdf_file)"
   ]
  },
  {
   "cell_type": "code",
   "execution_count": 56,
   "id": "84fda08d",
   "metadata": {},
   "outputs": [],
   "source": [
    "# Create lists to store results\n",
    "alcohols = []\n",
    "carboxylic_acids = []\n",
    "amines = []\n",
    "halogens = []\n",
    "esters = []\n",
    "primary_amines = []\n",
    "secondary_amines = []\n",
    "others = []\n",
    "\n",
    "for mol in supplier:\n",
    "    if mol is not None:\n",
    "        smiles = Chem.MolToSmiles(mol)\n",
    "        classification = classify_compound(mol)\n",
    "        \n",
    "        if classification == \"Halogen\":\n",
    "            halogens.append(Chem.MolFromSmiles(smiles)) \n",
    "        elif classification == \"Carboxylic Acid\":\n",
    "            carboxylic_acids.append(Chem.MolFromSmiles(smiles))\n",
    "        elif classification == \"Amine\":\n",
    "            amines.append(Chem.MolFromSmiles(smiles))\n",
    "        elif classification == \"Alcohol\":\n",
    "            alcohols.append(Chem.MolFromSmiles(smiles))\n",
    "        elif classification == \"Ester\":\n",
    "            esters.append(Chem.MolFromSmiles(smiles))\n",
    "        else:\n",
    "            others.append(Chem.MolFromSmiles(smiles))\n",
    "            \n",
    "for amine in amines:\n",
    "    if amine is not None:\n",
    "        amine_classification = classify_amine(amine)\n",
    "        if amine_classification == \"Primary Amine\":\n",
    "                primary_amines.append(amine)\n",
    "        elif amine_classification == \"Secondary Amine\":\n",
    "                secondary_amines.append(amine)\n",
    "        else:\n",
    "                others.append(amine)"
   ]
  },
  {
   "cell_type": "code",
   "execution_count": 57,
   "id": "9f483735",
   "metadata": {},
   "outputs": [
    {
     "name": "stdout",
     "output_type": "stream",
     "text": [
      "OH: 262\n",
      "R-NH2: 102\n",
      "R-NH-R: 158\n",
      "COOH: 795\n",
      "Halogens 46\n",
      "Esters 14\n"
     ]
    }
   ],
   "source": [
    "print(\"OH:\",len(alcohols))\n",
    "print(\"R-NH2:\", len(primary_NH2))\n",
    "print(\"R-NH-R:\", len(secondary_NH))\n",
    "print(\"COOH:\",len(carboxylic_acids))\n",
    "print(\"Halogens\",len(halogens))\n",
    "print(\"Esters\",len(esters))"
   ]
  },
  {
   "cell_type": "code",
   "execution_count": 76,
   "id": "a839e187",
   "metadata": {},
   "outputs": [],
   "source": [
    "pd.DataFrame(alcohols, columns=[\"SMILES\"]).to_csv(\"alcohols.csv\", index=False)"
   ]
  },
  {
   "cell_type": "code",
   "execution_count": 78,
   "id": "323d5a81",
   "metadata": {},
   "outputs": [],
   "source": [
    "alcohol_smiles = []\n",
    "\n",
    "for i in alcohols:\n",
    "    alcohol_smiles.append(Chem.MolToSmiles(i))\n",
    "\n",
    "pd.DataFrame(alcohol_smiles, columns=[\"SMILES\"]).to_csv(\"alcohols.csv\", index=False)"
   ]
  },
  {
   "cell_type": "code",
   "execution_count": 8,
   "id": "c029dfda",
   "metadata": {},
   "outputs": [],
   "source": [
    "def alcohol_classifier(mol):\n",
    "    if mol.HasSubstructMatch(Chem.MolFromSmarts(\"[NX3;H2,H1]\")):\n",
    "        return \"Amine\" \n",
    "    elif mol.HasSubstructMatch(Chem.MolFromSmarts(\"[Cl,Br,I]\")):\n",
    "        return \"Halogen_alcohol\""
   ]
  },
  {
   "cell_type": "code",
   "execution_count": 9,
   "id": "18b34a78",
   "metadata": {},
   "outputs": [
    {
     "name": "stdout",
     "output_type": "stream",
     "text": [
      "OH_halogen: 4 alcohols: 262\n"
     ]
    }
   ],
   "source": [
    "OH_halogen = []\n",
    "OH_NH = []\n",
    "\n",
    "for alcohol in alcohols:\n",
    "    classification = alcohol_classifier(alcohol)\n",
    "    \n",
    "    if classification == \"Halogen_alcohol\":\n",
    "        OH_halogen.append(alcohol)\n",
    "    elif classification == \"amine\":\n",
    "        OH_NH.append(alcohol)\n",
    "        \n",
    "        \n",
    "print(\"OH_halogen:\", len(OH_halogen), \"alcohols:\", len(alcohols))"
   ]
  },
  {
   "cell_type": "markdown",
   "id": "05a8f071",
   "metadata": {},
   "source": [
    "Reaccionar amina secondaria de alcoholes con halogenos"
   ]
  },
  {
   "cell_type": "code",
   "execution_count": 48,
   "id": "0b491800",
   "metadata": {},
   "outputs": [
    {
     "name": "stdout",
     "output_type": "stream",
     "text": [
      "['CCNC(C)=O', 'CC(=O)NC(C)C', 'CC(=O)NC1CCCCC1', 'CCNC(=O)CC', 'CCC(=O)NC(C)C', 'CCC(=O)NC1CCCCC1', 'CCNC(=O)c1ccccc1', 'CC(C)NC(=O)c1ccccc1', 'O=C(NC1CCCCC1)c1ccccc1']\n"
     ]
    },
    {
     "name": "stderr",
     "output_type": "stream",
     "text": [
      "[15:40:35] mapped atoms in the reactants were not mapped in the products.\n",
      "  unmapped numbers are: 3 \n"
     ]
    }
   ],
   "source": [
    "# Define the amine coupling reaction (carboxylic acid + amine → amide)\n",
    "reaction_smarts = '[C:1](=[O:2])[OH:3].[N:4]>>[C:1](=[O:2])[N:4]'\n",
    "\n",
    "# Load the reaction into RDKit\n",
    "rxn = AllChem.ReactionFromSmarts(reaction_smarts)\n",
    "\n",
    "carboxylic_acids = ['CC(=O)O', 'CCC(=O)O', 'C1=CC=C(C=C1)C(=O)O']  # Acetic, Propionic, Benzoic acid\n",
    "amines = ['NCC', 'NC(C)C', 'NC1CCCCC1']  # Ethylamine, Isopropylamine, Cyclohexylamine\n",
    "\n",
    "amide_products = []\n",
    "for carboxylic_acid_smiles in carboxylic_acids:\n",
    "    for amine_smiles in amines:\n",
    "        carboxylic_acid = Chem.MolFromSmiles(carboxylic_acid_smiles)\n",
    "        amine = Chem.MolFromSmiles(amine_smiles)\n",
    "\n",
    "        if carboxylic_acid and amine:  # Ensure valid molecules\n",
    "            products = rxn.RunReactants((carboxylic_acid, amine))\n",
    "\n",
    "            # Store the product SMILES\n",
    "            for prod_set in products:\n",
    "                for product in prod_set:\n",
    "                    product_smiles = Chem.MolToSmiles(product)\n",
    "                    amide_products.append(product_smiles)\n",
    "\n",
    "# Print all amide products\n",
    "#print(\"\\nGenerated Amides:\")\n",
    "print(amide_products)"
   ]
  },
  {
   "cell_type": "code",
   "execution_count": 67,
   "id": "f1227613",
   "metadata": {},
   "outputs": [
    {
     "name": "stderr",
     "output_type": "stream",
     "text": [
      "[15:54:06] mapped atoms in the reactants were not mapped in the products.\n",
      "  unmapped numbers are: 3 \n",
      "IOPub data rate exceeded.\n",
      "The notebook server will temporarily stop sending output\n",
      "to the client in order to avoid crashing it.\n",
      "To change this limit, set the config variable\n",
      "`--NotebookApp.iopub_data_rate_limit`.\n",
      "\n",
      "Current values:\n",
      "NotebookApp.iopub_data_rate_limit=1000000.0 (bytes/sec)\n",
      "NotebookApp.rate_limit_window=3.0 (secs)\n",
      "\n"
     ]
    }
   ],
   "source": [
    "# Define the amine coupling reaction (carboxylic acid + amine → amide)\n",
    "reaction_smarts = '[C:1](=[O:2])[OH:3].[N:4]>>[C:1](=[O:2])[N:4]'\n",
    "\n",
    "# Load the reaction into RDKit\n",
    "rxn = AllChem.ReactionFromSmarts(reaction_smarts)\n",
    "\n",
    "amide_products = []\n",
    "for carboxylic_acid_smiles in carboxylic_acids:\n",
    "    for amine_smiles in primary_amines:\n",
    "\n",
    "        if carboxylic_acid and amine:  # Ensure valid molecules\n",
    "            products = rxn.RunReactants((carboxylic_acid, amine))\n",
    "\n",
    "            # Store the product SMILES\n",
    "            for prod_set in products:\n",
    "                for product in prod_set:\n",
    "                    #product_smiles = Chem.MolToSmiles(product)\n",
    "                    amide_products.append(product)\n",
    "\n",
    "# Print all amide products\n",
    "#print(\"\\nGenerated Amides:\")\n",
    "print(amide_products)"
   ]
  },
  {
   "cell_type": "code",
   "execution_count": 76,
   "id": "6b5b65ea",
   "metadata": {},
   "outputs": [
    {
     "data": {
      "text/plain": [
       "'Cc1nc(N)nc(C)c1CC(=O)O'"
      ]
     },
     "execution_count": 76,
     "metadata": {},
     "output_type": "execute_result"
    }
   ],
   "source": [
    "Chem.MolToSmiles(carboxylic_acids[27])"
   ]
  },
  {
   "cell_type": "code",
   "execution_count": 79,
   "id": "32f8f03d",
   "metadata": {},
   "outputs": [
    {
     "data": {
      "text/plain": [
       "'CC(C)(C)OC(=O)N1CCCCC1c1cc(N)[nH]n1'"
      ]
     },
     "execution_count": 79,
     "metadata": {},
     "output_type": "execute_result"
    }
   ],
   "source": [
    "Chem.MolToSmiles(primary_amines[58])"
   ]
  },
  {
   "cell_type": "code",
   "execution_count": 90,
   "id": "14a2ab83",
   "metadata": {},
   "outputs": [
    {
     "name": "stdout",
     "output_type": "stream",
     "text": [
      "['CC(C)Cn1c(SCC(=O)N2(C(=O)OC(C)(C)C)CCC(CC3(C(N)=O)CCCN3)CC2)nc2c1c(=O)[nH]c(=O)n2C', 'CC(C)Cn1c(SCC(=O)NC(=O)C2(CC3CCN(C(=O)OC(C)(C)C)CC3)CCCN2)nc2c1c(=O)[nH]c(=O)n2C', 'CC(C)Cn1c(SCC(=O)N2CCCC2(CC2CCN(C(=O)OC(C)(C)C)CC2)C(N)=O)nc2c1c(=O)[nH]c(=O)n2C', 'CC(C)Cn1c(SCC(=O)Nc2nccc(C3CCCNC3)n2)nc2c1c(=O)[nH]c(=O)n2C', 'CC(C)Cn1c(SCC(=O)N2CCCC(c3ccnc(N)n3)C2)nc2c1c(=O)[nH]c(=O)n2C', 'CC(C)Cn1c(SCC(=O)N2(C(=O)OC(C)(C)C)CCCCC2c2cc(N)[nH]n2)nc2c1c(=O)[nH]c(=O)n2C', 'CC(C)Cn1c(SCC(=O)Nc2cc(C3CCCCN3C(=O)OC(C)(C)C)n[nH]2)nc2c1c(=O)[nH]c(=O)n2C', 'CCOC(=O)c1[nH]c(C)c(C(=O)N2(C(=O)OC(C)(C)C)CCC(CC3(C(N)=O)CCCN3)CC2)c1C', 'CCOC(=O)c1[nH]c(C)c(C(=O)NC(=O)C2(CC3CCN(C(=O)OC(C)(C)C)CC3)CCCN2)c1C', 'CCOC(=O)c1[nH]c(C)c(C(=O)N2CCCC2(CC2CCN(C(=O)OC(C)(C)C)CC2)C(N)=O)c1C', 'CCOC(=O)c1[nH]c(C)c(C(=O)Nc2nccc(C3CCCNC3)n2)c1C', 'CCOC(=O)c1[nH]c(C)c(C(=O)N2CCCC(c3ccnc(N)n3)C2)c1C', 'CCOC(=O)c1[nH]c(C)c(C(=O)N2(C(=O)OC(C)(C)C)CCCCC2c2cc(N)[nH]n2)c1C', 'CCOC(=O)c1[nH]c(C)c(C(=O)Nc2cc(C3CCCCN3C(=O)OC(C)(C)C)n[nH]2)c1C', 'Cc1nc(N)nc(C)c1CC(=O)N1(C(=O)OC(C)(C)C)CCC(CC2(C(N)=O)CCCN2)CC1', 'Cc1nc(N)nc(C)c1CC(=O)NC(=O)C1(CC2CCN(C(=O)OC(C)(C)C)CC2)CCCN1', 'Cc1nc(N)nc(C)c1CC(=O)N1CCCC1(CC1CCN(C(=O)OC(C)(C)C)CC1)C(N)=O', 'Cc1nc(N)nc(C)c1CC(=O)Nc1nccc(C2CCCNC2)n1', 'Cc1nc(N)nc(C)c1CC(=O)N1CCCC(c2ccnc(N)n2)C1', 'Cc1nc(N)nc(C)c1CC(=O)N1(C(=O)OC(C)(C)C)CCCCC1c1cc(N)[nH]n1', 'Cc1nc(N)nc(C)c1CC(=O)Nc1cc(C2CCCCN2C(=O)OC(C)(C)C)n[nH]1']\n"
     ]
    },
    {
     "name": "stderr",
     "output_type": "stream",
     "text": [
      "[16:05:45] mapped atoms in the reactants were not mapped in the products.\n",
      "  unmapped numbers are: 3 \n"
     ]
    }
   ],
   "source": [
    "# Define the amine coupling reaction (carboxylic acid + amine → amide)\n",
    "reaction_smarts = '[C:1](=[O:2])[OH:3].[N:4]>>[C:1](=[O:2])[N:4]'\n",
    "\n",
    "# Load the reaction into RDKit\n",
    "rxn = AllChem.ReactionFromSmarts(reaction_smarts)\n",
    "\n",
    "carboxylic_acids = ['CC(C)Cn1c(SCC(=O)O)nc2c1c(=O)[nH]c(=O)n2C', 'CCOC(=O)c1[nH]c(C)c(C(=O)O)c1C', 'Cc1nc(N)nc(C)c1CC(=O)O']  # Acetic, Propionic, Benzoic acid\n",
    "amines = ['CC(C)(C)OC(=O)N1CCC(CC2(C(N)=O)CCCN2)CC1', 'Nc1nccc(C2CCCNC2)n1', 'CC(C)(C)OC(=O)N1CCCCC1c1cc(N)[nH]n1']  # Ethylamine, Isopropylamine, Cyclohexylamine\n",
    "\n",
    "amide_products = []\n",
    "for carboxylic_acid_smiles in carboxylic_acids:\n",
    "    for amine_smiles in amines:\n",
    "        carboxylic_acid = Chem.MolFromSmiles(carboxylic_acid_smiles)\n",
    "        amine = Chem.MolFromSmiles(amine_smiles)\n",
    "\n",
    "        if carboxylic_acid and amine:  # Ensure valid molecules\n",
    "            products = rxn.RunReactants((carboxylic_acid, amine))\n",
    "\n",
    "            # Store the product SMILES\n",
    "            for prod_set in products:\n",
    "                for product in prod_set:\n",
    "                    amide_products.append(Chem.MolToSmiles(product))\n",
    "\n",
    "# Print all amide products\n",
    "#print(\"\\nGenerated Amides:\")\n",
    "print(amide_products)"
   ]
  },
  {
   "cell_type": "code",
   "execution_count": 91,
   "id": "f92fbe11",
   "metadata": {},
   "outputs": [],
   "source": [
    "pd.DataFrame(amide_products, columns=[\"amides\"]).to_csv(\"amide_products.csv\", index=False)"
   ]
  },
  {
   "cell_type": "code",
   "execution_count": null,
   "id": "9154612d",
   "metadata": {},
   "outputs": [],
   "source": []
  }
 ],
 "metadata": {
  "kernelspec": {
   "display_name": "Python 3 (ipykernel)",
   "language": "python",
   "name": "python3"
  },
  "language_info": {
   "codemirror_mode": {
    "name": "ipython",
    "version": 3
   },
   "file_extension": ".py",
   "mimetype": "text/x-python",
   "name": "python",
   "nbconvert_exporter": "python",
   "pygments_lexer": "ipython3",
   "version": "3.9.18"
  }
 },
 "nbformat": 4,
 "nbformat_minor": 5
}
