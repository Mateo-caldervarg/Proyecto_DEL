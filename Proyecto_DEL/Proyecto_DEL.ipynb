{
 "cells": [
  {
   "cell_type": "code",
   "execution_count": 1,
   "id": "8c5435c9-6e12-4f90-9e7e-85a13482052e",
   "metadata": {},
   "outputs": [],
   "source": [
    "import pandas as pd\n",
    "import rdkit as rk\n",
    "from PIL import Image  # Import PIL for visualization\n",
    "from rdkit import Chem\n",
    "from IPython.display import display\n",
    "from rdkit.Chem import AllChem, Draw\n",
    "from rdkit.Chem.rdMolDescriptors import CalcNumHeteroatoms\n",
    "import random #library for the generation of DNA Tags\n",
    "from openpyxl import Workbook\n",
    "from rdkit.Chem import SDMolSupplier, SDWriter\n",
    "from rdkit.Chem import rdChemReactions\n",
    "from ClickReaction import CuAAC\n",
    "from rdkit.Chem.Draw import IPythonConsole  # Ensures images render properly"
   ]
  },
  {
   "cell_type": "code",
   "execution_count": 11,
   "id": "d5c7bbaf",
   "metadata": {},
   "outputs": [],
   "source": [
    "from rdkit.Chem import rdmolops"
   ]
  },
  {
   "cell_type": "code",
   "execution_count": 7,
   "id": "f84b8805",
   "metadata": {},
   "outputs": [
    {
     "name": "stdout",
     "output_type": "stream",
     "text": [
      "SMARTS Notation: *-[#7].*-[#6:4](-*)-[#35]>>*-[#6:4](-*)-[#7]-*.[#35]\n"
     ]
    }
   ],
   "source": [
    "# Define the reactant and product SMILES\n",
    "def rxn_to_smarts(rxn_file):\n",
    "    # Load reaction from RXN file\n",
    "    with open(rxn_file_path, \"r\") as file:\n",
    "        rxn_block = file.read()\n",
    "    \n",
    "    reaction = rdChemReactions.ReactionFromRxnBlock(rxn_block)\n",
    "    \n",
    "    if reaction is None:\n",
    "        raise ValueError(\"Invalid RXN file or unable to parse.\")\n",
    "    \n",
    "    # Convert to SMARTS notation\n",
    "    smarts_notation = rdChemReactions.ReactionToSmarts(reaction)\n",
    "    \n",
    "    return smarts_notation\n",
    "\n",
    "# Example Usage:\n",
    "rxn_file_path = \"ketcher.rxn\"  # Replace with your actual RXN file path\n",
    "smarts = rxn_to_smarts(rxn_file_path)\n",
    "print(\"SMARTS Notation:\", smarts)"
   ]
  },
  {
   "cell_type": "code",
   "execution_count": 7,
   "id": "d81e934a",
   "metadata": {},
   "outputs": [
    {
     "name": "stdout",
     "output_type": "stream",
     "text": [
      "✅ Successfully wrote 3 molecules to azides.sdf\n"
     ]
    }
   ],
   "source": [
    "# List of building blocks in SMILES format\n",
    "BB = ['N=[N+]=NCC1CCCC1', 'N=[N+]=NCc1ccccc1', 'N=[N+]=NCC1CCCCCC1']\n",
    "\n",
    "# Convert SMILES to RDKit Mol objects\n",
    "molecules = []\n",
    "for i, smiles in enumerate(BB):\n",
    "    mol = Chem.MolFromSmiles(smiles)\n",
    "    if mol:\n",
    "        mol.SetProp(\"_Name\", f\"BB_{i}\")  # Assign a name (important for SDF)\n",
    "        AllChem.Compute2DCoords(mol)  # Compute 2D coordinates\n",
    "        molecules.append(mol)\n",
    "    else:\n",
    "        print(f\"❌ Warning: Could not parse SMILES {smiles}\")\n",
    "\n",
    "# Write valid molecules to an SDF file\n",
    "sdf_filename = \"azides.sdf\"\n",
    "with Chem.SDWriter(sdf_filename) as writer:\n",
    "    for mol in molecules:\n",
    "        writer.write(mol)\n",
    "\n",
    "print(f\"✅ Successfully wrote {len(molecules)} molecules to {sdf_filename}\")"
   ]
  },
  {
   "cell_type": "code",
   "execution_count": 84,
   "id": "449bf5de",
   "metadata": {},
   "outputs": [],
   "source": [
    "# Define the electrophile (with the leaving group Br)\n",
    "electrophile_smiles = 'C#CC(Br)c1ccccc1'\n",
    "electrophile = Chem.MolFromSmiles(electrophile_smiles)\n",
    "\n",
    "# Define the nucleophile (amine group with an ether group)\n",
    "nucleophile_smiles = 'Nc1ccoc1'\n",
    "nucleophile = Chem.MolFromSmiles(nucleophile_smiles)\n",
    "\n",
    "# Define the SN2 reaction SMARTS pattern\n",
    "reaction_smarts = '[C:1]-Br.[N:2]>>[C:1]-[N:2]'\n",
    "\n",
    "# Create the reaction object from SMARTS\n",
    "reaction = AllChem.ReactionFromSmarts(reaction_smarts)\n",
    "\n",
    "# Perform the reaction\n",
    "reactants = [electrophile, nucleophile]\n",
    "product_sets = reaction.RunReactants(reactants)\n",
    "\n",
    "# Extract the products\n",
    "products = []\n",
    "for product_set in product_sets:\n",
    "    for product in product_set:\n",
    "        products.append(product)"
   ]
  },
  {
   "cell_type": "code",
   "execution_count": 10,
   "id": "0f527a8b",
   "metadata": {},
   "outputs": [
    {
     "name": "stdout",
     "output_type": "stream",
     "text": [
      "Products saved to products.sdf\n"
     ]
    }
   ],
   "source": [
    "# Define the reactants as SMILES\n",
    "substrate = Chem.MolFromSmiles(\"C#CC(Br)c1ccccc1\")  # 1-bromo-2-phenylprop-1-yne\n",
    "nucleophile = Chem.MolFromSmiles(\"Nc1ccoc1\")  # 2-aminofuran\n",
    "\n",
    "# Define the reaction using SMARTS\n",
    "reaction = AllChem.ReactionFromSmarts(\n",
    "    \"[C:1]([Br:2])=[C:3]#[C:4].[N:5]>>[C:1]([N:5])=[C:3]#[C:4].[Br-:2]\"\n",
    ")\n",
    "\n",
    "# Run the reaction\n",
    "products = reaction.RunReactants((substrate, nucleophile))\n",
    "\n",
    "# Save the products to an SDF file\n",
    "writer = Chem.SDWriter(\"products.sdf\")\n",
    "for prod_set in products:\n",
    "    for prod in prod_set:\n",
    "        writer.write(prod)\n",
    "writer.close()\n",
    "\n",
    "print(\"Products saved to products.sdf\")"
   ]
  },
  {
   "cell_type": "code",
   "execution_count": 6,
   "id": "4183c427",
   "metadata": {},
   "outputs": [
    {
     "name": "stdout",
     "output_type": "stream",
     "text": [
      "Se han generado 12 productos y se han guardado en el archivo productos.sdf.\n"
     ]
    }
   ],
   "source": [
    "# Definir los nucleófilos y electrófilos\n",
    "nucleofilos = [\n",
    "    Chem.MolFromSmiles(\"Nc1ccoc1\"),  # Nucleófilo con nitrógeno\n",
    "    Chem.MolFromSmiles(\"Oc1ccoc1\"),  # Nucleófilo con oxígeno\n",
    "    Chem.MolFromSmiles(\"Sc1cc[nH]c1\"),  # Nucleófilo con azufre\n",
    "    Chem.MolFromSmiles(\"Oc1cc[nH]c1\")  # Otro nucleófilo con oxígeno\n",
    "]\n",
    "\n",
    "electrofilos = [\n",
    "    Chem.MolFromSmiles(\"C#CC(Br)c1ccccc1\"),  # Electrónfilo 1\n",
    "    Chem.MolFromSmiles(\"C#CC(Br)C1CC1\"),     # Electrónfilo 2\n",
    "    Chem.MolFromSmiles(\"C#CC(Br)C1CCCC1\")    # Electrónfilo 3\n",
    "]\n",
    "\n",
    "# Definir la reacción de sustitución nucleofílica\n",
    "reaction = AllChem.ReactionFromSmarts(\"[C:1][Br].[N,O,S:2]>>[C:1][*:2]\")\n",
    "\n",
    "# Crear una lista para almacenar los productos\n",
    "productos = []\n",
    "\n",
    "# Iterar sobre los nucleófilos y electrófilos\n",
    "for nucleofilo in nucleofilos:\n",
    "    for electrofilo in electrofilos:\n",
    "        # Ejecutar la reacción\n",
    "        productos_reaccion = reaction.RunReactants((electrofilo, nucleofilo))\n",
    "        for producto in productos_reaccion:\n",
    "            productos.append(producto[0])  # Agregar el producto a la lista\n",
    "\n",
    "# Guardar los productos en un archivo SDF\n",
    "output_file = \"productos.sdf\"\n",
    "writer = SDWriter(output_file)\n",
    "\n",
    "for producto in productos:\n",
    "    Chem.SanitizeMol(producto)  # Asegurarse de que la molécula sea válida\n",
    "    writer.write(producto)\n",
    "\n",
    "writer.close()\n",
    "print(f\"Se han generado {len(productos)} productos y se han guardado en el archivo {output_file}.\")"
   ]
  },
  {
   "cell_type": "code",
   "execution_count": 25,
   "id": "b7b198e7",
   "metadata": {},
   "outputs": [],
   "source": [
    "alkyne = Chem.MolFromSmiles(\"C#CC(c1ccccc1)N\")\n",
    "azide = Chem.MolFromSmiles(\"C1CCCC1C-[N-]-[N+]#N\")\n",
    "\n",
    "reaction = CuAAC(alkyne=alkyne, azide=azide)\n",
    "product = reaction.get_product()"
   ]
  },
  {
   "cell_type": "code",
   "execution_count": 10,
   "id": "474a9342",
   "metadata": {},
   "outputs": [],
   "source": [
    "supp1 = Chem.SDMolSupplier('productos.sdf')\n",
    "\n",
    "for mol in supp:\n",
    "    if mol is not None: mol.GetNumAtoms()  #Create a list of molecules\n",
    "\n",
    "alkynes = [x for x in supp]\n",
    "\n",
    "supp2 = Chem.SDMolSupplier('azides.sdf')\n",
    "for mol in supp2:\n",
    "    if mol is not None: mol.GetNumAtoms()\n",
    "\n",
    "azides = [x for x in supp2]"
   ]
  },
  {
   "cell_type": "code",
   "execution_count": 18,
   "id": "07be5a22",
   "metadata": {},
   "outputs": [
    {
     "name": "stdout",
     "output_type": "stream",
     "text": [
      "c1ccc(-c2cn(CC3CCCC3)nn2)cc1\n",
      "NC(c1ccccc1)c1cn(CC2CCCC2)nn1\n",
      "COCn1cc(-c2ccccc2)nn1\n",
      "COCn1cc(C(N)c2ccccc2)nn1\n"
     ]
    }
   ],
   "source": [
    "# Example lists of azides and alkynes (replace with your actual molecules)\n",
    "azides = [\n",
    "    Chem.MolFromSmiles(\"C1CCCC1C[N-]-[N+]#N\"),  # Example azide\n",
    "    Chem.MolFromSmiles(\"COC[N-]-[N+]#N\")           # Another azide\n",
    "]\n",
    "\n",
    "alkynes = [\n",
    "    Chem.MolFromSmiles(\"C#CC1=CC=CC=C1\"),          # Example alkyne\n",
    "    Chem.MolFromSmiles(\"C#CC(c1ccccc1)N\") # Another alkyne\n",
    "]\n",
    "\n",
    "\n",
    "# List to store the products\n",
    "Click_products = []\n",
    "\n",
    "# React all azides with all alkynes\n",
    "for azide in azides:\n",
    "    for alkyne in alkynes:\n",
    "        # Perform the CuAAC reaction\n",
    "        reaction = CuAAC(alkyne, azide)\n",
    "        product = reaction.get_product()\n",
    "        if product:  # Ensure the reaction was successful\n",
    "            Click_products.append(product)\n",
    "\n",
    "# Print the SMILES of the products\n",
    "for product in Click_products:\n",
    "    print(Chem.MolToSmiles(product))"
   ]
  },
  {
   "cell_type": "code",
   "execution_count": 36,
   "id": "3b4662af",
   "metadata": {},
   "outputs": [],
   "source": [
    "# Definir los nucleófilos y electrófilos\n",
    "nucleofilos = [\n",
    "    Chem.MolFromSmiles(\"Nc1ccoc1\"),  # Nucleófilo con nitrógeno\n",
    "    Chem.MolFromSmiles(\"Oc1ccoc1\"),  # Nucleófilo con oxígeno\n",
    "    Chem.MolFromSmiles(\"Oc1cc[nH]c1\")  # Otro nucleófilo con oxígeno\n",
    "]\n",
    "\n",
    "electrofilos = [\n",
    "    Chem.MolFromSmiles(\"C#CC(Br)c1ccccc1\"),  # Electrónfilo 1\n",
    "    Chem.MolFromSmiles(\"C#CC(Br)C1CC1\"),     # Electrónfilo 2\n",
    "    Chem.MolFromSmiles(\"C#CC(Br)C1CCCC1\")    # Electrónfilo 3\n",
    "]\n",
    "\n",
    "# Definir la reacción de sustitución nucleofílica\n",
    "reaction = AllChem.ReactionFromSmarts(\"[C:1][Br].[N,O,S:2]>>[C:1][*:2]\")\n",
    "\n",
    "# Crear una lista para almacenar los productos\n",
    "SN2 = []\n",
    "\n",
    "# Iterar sobre los nucleófilos y electrófilos\n",
    "for nucleofilo in nucleofilos:\n",
    "    for electrofilo in electrofilos:\n",
    "        # Ejecutar la reacción\n",
    "        productos_reaccion = reaction.RunReactants((electrofilo, nucleofilo))\n",
    "        for producto in productos_reaccion:\n",
    "            SN2.append(Chem.MolToSmiles(producto[0]))  # Agregar el producto a la lista\n"
   ]
  },
  {
   "cell_type": "code",
   "execution_count": 37,
   "id": "a7582664",
   "metadata": {},
   "outputs": [
    {
     "data": {
      "text/plain": [
       "[<rdkit.Chem.rdchem.Mol at 0x13378c190>,\n",
       " <rdkit.Chem.rdchem.Mol at 0x13378cf20>,\n",
       " <rdkit.Chem.rdchem.Mol at 0x13378c7b0>,\n",
       " <rdkit.Chem.rdchem.Mol at 0x13378c040>,\n",
       " <rdkit.Chem.rdchem.Mol at 0x1338e1040>,\n",
       " <rdkit.Chem.rdchem.Mol at 0x1338e10b0>,\n",
       " <rdkit.Chem.rdchem.Mol at 0x1338e1120>,\n",
       " <rdkit.Chem.rdchem.Mol at 0x1338e1190>,\n",
       " <rdkit.Chem.rdchem.Mol at 0x1338e1200>]"
      ]
     },
     "execution_count": 37,
     "metadata": {},
     "output_type": "execute_result"
    }
   ],
   "source": [
    "SN2_products = []\n",
    "\n",
    "for mol in SN2:\n",
    "    SN2_products.append(Chem.MolFromSmiles(mol))\n",
    "    \n",
    "SN2_products"
   ]
  },
  {
   "cell_type": "code",
   "execution_count": 39,
   "id": "a417c6d3",
   "metadata": {},
   "outputs": [],
   "source": [
    "azides = [Chem.MolFromSmiles(\"C1CCCC1C[N-]-[N+]#N\"),  # Example azide\n",
    "          Chem.MolFromSmiles(\"COC[N-]-[N+]#N\")           # Another azide\n",
    "]\n",
    "\n",
    "Click_prods = []\n",
    "\n",
    "for alkyne in SN2_products:\n",
    "    for azide in azides:\n",
    "        reaction = CuAAC(alkyne, azide)\n",
    "        product = reaction.get_product()\n",
    "        Click_prods.append(product)"
   ]
  },
  {
   "cell_type": "code",
   "execution_count": 42,
   "id": "2cb00fbc",
   "metadata": {},
   "outputs": [],
   "source": [
    "sdf_filename = \"Combinatorial_Library.sdf\"\n",
    "with Chem.SDWriter(sdf_filename) as writer:\n",
    "    for mol in Click_products:\n",
    "        writer.write(mol)"
   ]
  },
  {
   "cell_type": "code",
   "execution_count": 43,
   "id": "1bc7f116",
   "metadata": {},
   "outputs": [
    {
     "data": {
      "text/plain": [
       "18"
      ]
     },
     "execution_count": 43,
     "metadata": {},
     "output_type": "execute_result"
    }
   ],
   "source": [
    "len(Click_prods)"
   ]
  },
  {
   "cell_type": "code",
   "execution_count": 50,
   "id": "745dc0e1",
   "metadata": {},
   "outputs": [
    {
     "data": {
      "text/plain": [
       "(<rdkit.Chem.rdchem.Mol at 0x13378c970>,\n",
       " <rdkit.Chem.rdchem.Mol at 0x13378c890>)"
      ]
     },
     "execution_count": 50,
     "metadata": {},
     "output_type": "execute_result"
    }
   ],
   "source": [
    "Click_prods[1], Click_prods[2]"
   ]
  },
  {
   "cell_type": "code",
   "execution_count": null,
   "id": "657c8ff8",
   "metadata": {},
   "outputs": [],
   "source": []
  }
 ],
 "metadata": {
  "kernelspec": {
   "display_name": "Python 3 (ipykernel)",
   "language": "python",
   "name": "python3"
  },
  "language_info": {
   "codemirror_mode": {
    "name": "ipython",
    "version": 3
   },
   "file_extension": ".py",
   "mimetype": "text/x-python",
   "name": "python",
   "nbconvert_exporter": "python",
   "pygments_lexer": "ipython3",
   "version": "3.9.18"
  }
 },
 "nbformat": 4,
 "nbformat_minor": 5
}
