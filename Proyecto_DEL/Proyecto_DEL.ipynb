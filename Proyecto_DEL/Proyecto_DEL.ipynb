{
 "cells": [
  {
   "cell_type": "code",
   "execution_count": 1,
   "id": "8c5435c9-6e12-4f90-9e7e-85a13482052e",
   "metadata": {},
   "outputs": [],
   "source": [
    "import pandas as pd\n",
    "import rdkit as rk\n",
    "from PIL import Image  # Import PIL for visualization\n",
    "from rdkit import Chem\n",
    "from IPython.display import display\n",
    "from rdkit.Chem import AllChem, Draw\n",
    "from rdkit.Chem.rdMolDescriptors import CalcNumHeteroatoms\n",
    "import random #library for the generation of DNA Tags\n",
    "from openpyxl import Workbook\n",
    "from rdkit.Chem import SDMolSupplier, SDWriter\n",
    "from rdkit.Chem import rdChemReactions\n",
    "from ClickReaction import CuAAC\n",
    "from rdkit.Chem.Draw import IPythonConsole  # Ensures images render properly"
   ]
  },
  {
   "cell_type": "code",
   "execution_count": 7,
   "id": "f84b8805",
   "metadata": {},
   "outputs": [
    {
     "name": "stdout",
     "output_type": "stream",
     "text": [
      "SMARTS Notation: *-[#7].*-[#6:4](-*)-[#35]>>*-[#6:4](-*)-[#7]-*.[#35]\n"
     ]
    }
   ],
   "source": [
    "# Define the reactant and product SMILES\n",
    "def rxn_to_smarts(rxn_file):\n",
    "    # Load reaction from RXN file\n",
    "    with open(rxn_file_path, \"r\") as file:\n",
    "        rxn_block = file.read()\n",
    "    \n",
    "    reaction = rdChemReactions.ReactionFromRxnBlock(rxn_block)\n",
    "    \n",
    "    if reaction is None:\n",
    "        raise ValueError(\"Invalid RXN file or unable to parse.\")\n",
    "    \n",
    "    # Convert to SMARTS notation\n",
    "    smarts_notation = rdChemReactions.ReactionToSmarts(reaction)\n",
    "    \n",
    "    return smarts_notation\n",
    "\n",
    "# Example Usage:\n",
    "rxn_file_path = \"ketcher.rxn\"  # Replace with your actual RXN file path\n",
    "smarts = rxn_to_smarts(rxn_file_path)\n",
    "print(\"SMARTS Notation:\", smarts)"
   ]
  },
  {
   "cell_type": "code",
   "execution_count": 8,
   "id": "6f60cc8d-574f-4e2d-9242-67bdcdcd3327",
   "metadata": {},
   "outputs": [
    {
     "name": "stdout",
     "output_type": "stream",
     "text": [
      "ATGCC\n",
      "CAGAA\n",
      "CTCTA\n",
      "CCTGA\n",
      "CATCC\n",
      "TAGCG\n",
      "GCCAA\n",
      "TGTGT\n",
      "ATAAT\n",
      "CCTTA\n"
     ]
    }
   ],
   "source": [
    "# Function to generate a random DNA sequence of length 5\n",
    "def generate_random_sequences(num_sequences=10, length=5):\n",
    "    sequences = [''.join(random.choices(\"ACGT\", k=length)) for _ in range(num_sequences)]\n",
    "    return sequences\n",
    "\n",
    "# Generate and print 10 random sequences of length 5\n",
    "random_sequences = generate_random_sequences(10, 5)\n",
    "for seq in random_sequences:\n",
    "    print(seq)"
   ]
  },
  {
   "cell_type": "code",
   "execution_count": 8,
   "id": "d81e934a",
   "metadata": {},
   "outputs": [
    {
     "name": "stdout",
     "output_type": "stream",
     "text": [
      "✅ Successfully wrote 9 molecules to building_blocks.sdf\n"
     ]
    }
   ],
   "source": [
    "# List of building blocks in SMILES format\n",
    "BB = [\n",
    "    'C#CC(N)c1ccccc1', 'NCC1CC#CCCC1', 'C#CCC(N)c1ccccc1',\n",
    "    'O=C(O)c2cccc(Oc1ccccc1)c2', 'O=C(O)CC1CCC(C(F)(F)F)CC1', 'O=C(O)C2CCN(c1ccccc1)C2', \n",
    "    'N=[N+]=NCC1CCCC1', 'N=[N+]=NCc1ccccc1', 'N=[N+]=NCC1CCCCCC1'\n",
    "]\n",
    "\n",
    "# Convert SMILES to RDKit Mol objects\n",
    "molecules = []\n",
    "for i, smiles in enumerate(BB):\n",
    "    mol = Chem.MolFromSmiles(smiles)\n",
    "    if mol:\n",
    "        mol.SetProp(\"_Name\", f\"BB_{i}\")  # Assign a name (important for SDF)\n",
    "        AllChem.Compute2DCoords(mol)  # Compute 2D coordinates\n",
    "        molecules.append(mol)\n",
    "    else:\n",
    "        print(f\"❌ Warning: Could not parse SMILES {smiles}\")\n",
    "\n",
    "# Write valid molecules to an SDF file\n",
    "sdf_filename = \"building_blocks.sdf\"\n",
    "with Chem.SDWriter(sdf_filename) as writer:\n",
    "    for mol in molecules:\n",
    "        writer.write(mol)\n",
    "\n",
    "print(f\"✅ Successfully wrote {len(molecules)} molecules to {sdf_filename}\")"
   ]
  },
  {
   "cell_type": "code",
   "execution_count": 84,
   "id": "449bf5de",
   "metadata": {},
   "outputs": [],
   "source": [
    "# Define the electrophile (with the leaving group Br)\n",
    "electrophile_smiles = 'C#CC(Br)c1ccccc1'\n",
    "electrophile = Chem.MolFromSmiles(electrophile_smiles)\n",
    "\n",
    "# Define the nucleophile (amine group with an ether group)\n",
    "nucleophile_smiles = 'Nc1ccoc1'\n",
    "nucleophile = Chem.MolFromSmiles(nucleophile_smiles)\n",
    "\n",
    "# Define the SN2 reaction SMARTS pattern\n",
    "reaction_smarts = '[C:1]-Br.[N:2]>>[C:1]-[N:2]'\n",
    "\n",
    "# Create the reaction object from SMARTS\n",
    "reaction = AllChem.ReactionFromSmarts(reaction_smarts)\n",
    "\n",
    "# Perform the reaction\n",
    "reactants = [electrophile, nucleophile]\n",
    "product_sets = reaction.RunReactants(reactants)\n",
    "\n",
    "# Extract the products\n",
    "products = []\n",
    "for product_set in product_sets:\n",
    "    for product in product_set:\n",
    "        products.append(product)"
   ]
  },
  {
   "cell_type": "code",
   "execution_count": 10,
   "id": "0f527a8b",
   "metadata": {},
   "outputs": [
    {
     "name": "stdout",
     "output_type": "stream",
     "text": [
      "Products saved to products.sdf\n"
     ]
    }
   ],
   "source": [
    "# Define the reactants as SMILES\n",
    "substrate = Chem.MolFromSmiles(\"C#CC(Br)c1ccccc1\")  # 1-bromo-2-phenylprop-1-yne\n",
    "nucleophile = Chem.MolFromSmiles(\"Nc1ccoc1\")  # 2-aminofuran\n",
    "\n",
    "# Define the reaction using SMARTS\n",
    "reaction = AllChem.ReactionFromSmarts(\n",
    "    \"[C:1]([Br:2])=[C:3]#[C:4].[N:5]>>[C:1]([N:5])=[C:3]#[C:4].[Br-:2]\"\n",
    ")\n",
    "\n",
    "# Run the reaction\n",
    "products = reaction.RunReactants((substrate, nucleophile))\n",
    "\n",
    "# Save the products to an SDF file\n",
    "writer = Chem.SDWriter(\"products.sdf\")\n",
    "for prod_set in products:\n",
    "    for prod in prod_set:\n",
    "        writer.write(prod)\n",
    "writer.close()\n",
    "\n",
    "print(\"Products saved to products.sdf\")"
   ]
  },
  {
   "cell_type": "code",
   "execution_count": 6,
   "id": "4183c427",
   "metadata": {},
   "outputs": [
    {
     "name": "stdout",
     "output_type": "stream",
     "text": [
      "Se han generado 12 productos y se han guardado en el archivo productos.sdf.\n"
     ]
    }
   ],
   "source": [
    "# Definir los nucleófilos y electrófilos\n",
    "nucleofilos = [\n",
    "    Chem.MolFromSmiles(\"Nc1ccoc1\"),  # Nucleófilo con nitrógeno\n",
    "    Chem.MolFromSmiles(\"Oc1ccoc1\"),  # Nucleófilo con oxígeno\n",
    "    Chem.MolFromSmiles(\"Sc1cc[nH]c1\"),  # Nucleófilo con azufre\n",
    "    Chem.MolFromSmiles(\"Oc1cc[nH]c1\")  # Otro nucleófilo con oxígeno\n",
    "]\n",
    "\n",
    "electrofilos = [\n",
    "    Chem.MolFromSmiles(\"C#CC(Br)c1ccccc1\"),  # Electrónfilo 1\n",
    "    Chem.MolFromSmiles(\"C#CC(Br)C1CC1\"),     # Electrónfilo 2\n",
    "    Chem.MolFromSmiles(\"C#CC(Br)C1CCCC1\")    # Electrónfilo 3\n",
    "]\n",
    "\n",
    "# Definir la reacción de sustitución nucleofílica\n",
    "reaction = AllChem.ReactionFromSmarts(\"[C:1][Br].[N,O,S:2]>>[C:1][*:2]\")\n",
    "\n",
    "# Crear una lista para almacenar los productos\n",
    "productos = []\n",
    "\n",
    "# Iterar sobre los nucleófilos y electrófilos\n",
    "for nucleofilo in nucleofilos:\n",
    "    for electrofilo in electrofilos:\n",
    "        # Ejecutar la reacción\n",
    "        productos_reaccion = reaction.RunReactants((electrofilo, nucleofilo))\n",
    "        for producto in productos_reaccion:\n",
    "            productos.append(producto[0])  # Agregar el producto a la lista\n",
    "\n",
    "# Guardar los productos en un archivo SDF\n",
    "output_file = \"productos.sdf\"\n",
    "writer = SDWriter(output_file)\n",
    "\n",
    "for producto in productos:\n",
    "    Chem.SanitizeMol(producto)  # Asegurarse de que la molécula sea válida\n",
    "    writer.write(producto)\n",
    "\n",
    "writer.close()\n",
    "print(f\"Se han generado {len(productos)} productos y se han guardado en el archivo {output_file}.\")"
   ]
  },
  {
   "cell_type": "code",
   "execution_count": 19,
   "id": "16b7ac00",
   "metadata": {},
   "outputs": [
    {
     "name": "stdout",
     "output_type": "stream",
     "text": [
      "Imágenes generadas y guardadas como 'azida_enumerada.png' y 'alquino_enumerado.png'.\n"
     ]
    }
   ],
   "source": [
    "# Definir las moléculas en formato SMILES\n",
    "smiles_azida = \"N=[N+]=NCC1CCCC1\"  # Azida\n",
    "smiles_alquino = \"C#CC(Br)c1ccccc1\"  # Alquino\n",
    "\n",
    "# Convertir los SMILES a objetos Mol de RDKit\n",
    "mol_azida = Chem.MolFromSmiles(smiles_azida)\n",
    "mol_alquino = Chem.MolFromSmiles(smiles_alquino)\n",
    "\n",
    "# Enumerar los átomos en las moléculas\n",
    "for atom in mol_azida.GetAtoms():\n",
    "    atom.SetProp(\"atomNote\", str(atom.GetIdx()))  # Agregar el índice del átomo como nota\n",
    "for atom in mol_alquino.GetAtoms():\n",
    "    atom.SetProp(\"atomNote\", str(atom.GetIdx()))  # Agregar el índice del átomo como nota\n",
    "\n",
    "# Dibujar las moléculas con los átomos enumerados\n",
    "img_azida = Draw.MolToImage(mol_azida, legend=\"Azida: N=[N+]=NCC1CCCC1\")\n",
    "img_alquino = Draw.MolToImage(mol_alquino, legend=\"Alquino: C#CC(Br)c1ccccc1\")\n",
    "\n",
    "# Mostrar las imágenes\n",
    "img_azida.show()\n",
    "img_alquino.show()\n",
    "\n",
    "# Guardar las imágenes en archivos\n",
    "img_azida.save(\"azida_enumerada.png\")\n",
    "img_alquino.save(\"alquino_enumerado.png\")\n",
    "\n",
    "print(\"Imágenes generadas y guardadas como 'azida_enumerada.png' y 'alquino_enumerado.png'.\")"
   ]
  },
  {
   "cell_type": "code",
   "execution_count": 52,
   "id": "a68f3906",
   "metadata": {},
   "outputs": [],
   "source": [
    "supp = Chem.SDMolSupplier('building_blocks.sdf')\n",
    "for mol in supp:\n",
    "    if mol is not None: mol.GetNumAtoms()"
   ]
  },
  {
   "cell_type": "code",
   "execution_count": 53,
   "id": "3c47160a",
   "metadata": {},
   "outputs": [
    {
     "data": {
      "text/plain": [
       "10"
      ]
     },
     "execution_count": 53,
     "metadata": {},
     "output_type": "execute_result"
    }
   ],
   "source": [
    "mols = [x for x in supp]\n",
    "len(mols)"
   ]
  },
  {
   "cell_type": "code",
   "execution_count": 54,
   "id": "25b02b38",
   "metadata": {},
   "outputs": [],
   "source": [
    "patt1= Chem.MolFromSmarts('[$([NX3;H2;!$(NC=O)]),$([#16X2H]),$([OX2H])][cr5;$([cr5]:1:[nr5,or5,sr5]:[cr5]:[cr5]:[nr5,or5,sr5]:1),$([cr5]:1:[cr5]:[nr5,or5,sr5]:[cr5]:[cr5]:1)]')\n",
    "het5 = [x for x in mols if x.HasSubstructMatch(patt1)]"
   ]
  },
  {
   "cell_type": "code",
   "execution_count": 55,
   "id": "8c9432c6",
   "metadata": {},
   "outputs": [],
   "source": [
    "patt2= Chem.MolFromSmarts('[Br][#6]C#[CH1]')\n",
    "alkynes = [x for x in mols if x.HasSubstructMatch(patt2)]"
   ]
  },
  {
   "cell_type": "code",
   "execution_count": 56,
   "id": "7a49c8c8",
   "metadata": {},
   "outputs": [],
   "source": [
    "patt3= Chem.MolFromSmarts('[N;H0;$(N-[#6]);D2]=[N;D2]=[N;D1]')\n",
    "azide = [x for x in mols if x.HasSubstructMatch(patt3)]"
   ]
  },
  {
   "cell_type": "code",
   "execution_count": 57,
   "id": "9e0b6341",
   "metadata": {},
   "outputs": [],
   "source": [
    "rxn=AllChem.ReactionFromSmarts('[#6;a;r5:1][$([NX3;H2;!$(NC=O)]),$([#16X2H]),$([OX2H]):2].[#35,#17]-[#6:3][C:4]#[C:5]>>[#6;a;r5:1][$([NX3;H]),$([#16X2]),$([OX2]):2]-[#6:3][C:4]#[C:5]')"
   ]
  },
  {
   "cell_type": "code",
   "execution_count": 58,
   "id": "0ae4591c",
   "metadata": {},
   "outputs": [],
   "source": [
    "prods1 = AllChem.EnumerateLibraryFromReaction(rxn,[het5,alkynes])\n",
    "smis = list(set([Chem.MolToSmiles(x[0],isomericSmiles=True) for x in prods1]))"
   ]
  },
  {
   "cell_type": "code",
   "execution_count": 59,
   "id": "3f8ef734",
   "metadata": {},
   "outputs": [
    {
     "data": {
      "text/plain": [
       "0"
      ]
     },
     "execution_count": 59,
     "metadata": {},
     "output_type": "execute_result"
    }
   ],
   "source": [
    "rxn2= AllChem.ReactionFromSmarts('[#6:7][C:6]#[CH1:5].[#6:4]-[#7:3]=[N+:2]=[#7-:1]>>[#6:4]-[#7:3]-1[#6:5]=[#6:6](-[#6:7])-[#7:1]=[#7:2]-1')\n",
    "prods2 = AllChem.EnumerateLibraryFromReaction(rxn2,[[ Chem.MolFromSmiles(x) for x in smis ],azide])\n",
    "smis2 = list(set([Chem.MolToSmiles(x[0],isomericSmiles=True) for x in prods2]))\n",
    "len(smis2)"
   ]
  },
  {
   "cell_type": "code",
   "execution_count": null,
   "id": "b7b198e7",
   "metadata": {},
   "outputs": [],
   "source": []
  }
 ],
 "metadata": {
  "kernelspec": {
   "display_name": "Python 3 (ipykernel)",
   "language": "python",
   "name": "python3"
  },
  "language_info": {
   "codemirror_mode": {
    "name": "ipython",
    "version": 3
   },
   "file_extension": ".py",
   "mimetype": "text/x-python",
   "name": "python",
   "nbconvert_exporter": "python",
   "pygments_lexer": "ipython3",
   "version": "3.9.18"
  }
 },
 "nbformat": 4,
 "nbformat_minor": 5
}
