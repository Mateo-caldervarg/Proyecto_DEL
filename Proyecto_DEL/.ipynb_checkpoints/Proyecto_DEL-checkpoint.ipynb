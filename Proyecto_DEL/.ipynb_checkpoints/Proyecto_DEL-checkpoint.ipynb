{
 "cells": [
  {
   "cell_type": "code",
   "execution_count": 7,
   "id": "8c5435c9-6e12-4f90-9e7e-85a13482052e",
   "metadata": {},
   "outputs": [],
   "source": [
    "import pandas as pd\n",
    "import rdkit as rk\n",
    "from rdkit import Chem\n",
    "from rdkit.Chem import AllChem\n",
    "from rdkit.Chem.rdMolDescriptors import CalcNumHeteroatoms\n",
    "import random #library for the generation of DNA Tags\n",
    "from openpyxl import Workbook"
   ]
  },
  {
   "cell_type": "code",
   "execution_count": 8,
   "id": "6f60cc8d-574f-4e2d-9242-67bdcdcd3327",
   "metadata": {},
   "outputs": [
    {
     "name": "stdout",
     "output_type": "stream",
     "text": [
      "ATGCC\n",
      "CAGAA\n",
      "CTCTA\n",
      "CCTGA\n",
      "CATCC\n",
      "TAGCG\n",
      "GCCAA\n",
      "TGTGT\n",
      "ATAAT\n",
      "CCTTA\n"
     ]
    }
   ],
   "source": [
    "# Function to generate a random DNA sequence of length 5\n",
    "def generate_random_sequences(num_sequences=10, length=5):\n",
    "    sequences = [''.join(random.choices(\"ACGT\", k=length)) for _ in range(num_sequences)]\n",
    "    return sequences\n",
    "\n",
    "# Generate and print 10 random sequences of length 5\n",
    "random_sequences = generate_random_sequences(10, 5)\n",
    "for seq in random_sequences:\n",
    "    print(seq)"
   ]
  },
  {
   "cell_type": "code",
   "execution_count": null,
   "id": "c0478d4a",
   "metadata": {},
   "outputs": [],
   "source": [
    "#Read building blocks using a Supplier\n",
    "supp = Chem.SDMolSupplier('Click_BB.sdf')\n",
    "for mol in supp:\n",
    "    if mol is not None: mol.GetNumAtoms()"
   ]
  },
  {
   "cell_type": "code",
   "execution_count": null,
   "id": "4cd58cdd",
   "metadata": {},
   "outputs": [],
   "source": [
    "#Create a list of molecules\n",
    "mols = [x for x in supp]\n",
    "len(mols) #Number of building blocks"
   ]
  },
  {
   "cell_type": "code",
   "execution_count": null,
   "id": "ba6eeaf1",
   "metadata": {},
   "outputs": [],
   "source": [
    "# Match a substructure with a SMARTS query \n",
    "#SMARTS 5-membered heterocycles\n",
    "patt1= Chem.MolFromSmarts('[$([NX3;H2;!$(NC=O)]),$([#16X2H]),$([OX2H])]- [cr5;$([cr5]:1:[nr5,or5,sr5]:[cr5]:[cr5]:[nr5,or5,sr5]:1),$([cr5]:1:[cr5]:[nr5,or5,sr5]:[cr5]:[cr5]:1)]')\n",
    "het5 = [x for x in mols if x.HasSubstructMatch(patt1)]"
   ]
  },
  {
   "cell_type": "code",
   "execution_count": null,
   "id": "af211a86",
   "metadata": {},
   "outputs": [],
   "source": [
    "#SMARTS Terminal alkyne 3-bromo or chloro substituted\n",
    "patt2= Chem.MolFromSmarts('[Br,Cl][#6]C#[CH1]')\n",
    "alkynes = [x for x in mols if x.HasSubstructMatch(patt2)]"
   ]
  },
  {
   "cell_type": "code",
   "execution_count": null,
   "id": "5215874e",
   "metadata": {},
   "outputs": [],
   "source": [
    "#SMARTS Azide\n",
    "patt3= Chem.MolFromSmarts('[N;H0;$(N-[#6]);D2]=[N;D2]=[N;D1]')\n",
    "azide = [x for x in mols if x.HasSubstructMatch(patt3)]"
   ]
  },
  {
   "cell_type": "code",
   "execution_count": null,
   "id": "a11de027",
   "metadata": {},
   "outputs": [],
   "source": [
    "#Nucleophilic Substitutuion\n",
    "rxn=AllChem.ReactionFromSmarts('[#6;a;r5:1]- [$([NX3;H2;!$(NC=O)]),$([#16X2H]),$([OX2H]):2].[#35,#17]-[#6:3][C:4]#[C:5]>>[#6;a;r5:1]- [$([NX3;H]),$([#16X2]),$([OX2]):2]-[#6:3][C:4]#[C:5]')"
   ]
  },
  {
   "cell_type": "code",
   "execution_count": null,
   "id": "5ecdfd36",
   "metadata": {},
   "outputs": [],
   "source": [
    "prods1 = AllChem.EnumerateLibraryFromReaction(rxn,[het5,alkynes])\n",
    "smis = list(set([Chem.MolToSmiles(x[0],isomericSmiles=True) for x in prod]))"
   ]
  },
  {
   "cell_type": "code",
   "execution_count": null,
   "id": "9004a202",
   "metadata": {},
   "outputs": [],
   "source": [
    "#Click reaction\n",
    "rxn2= AllChem.ReactionFromSmarts('[#6:7][C:6]#[CH1:5].[#6:4]-[#7:3]=[N+:2]=[#7-:1]>>[#6:4]-[#7:3]-1- [#6:5]=[#6:6](-[#6:7])-[#7:1]=[#7:2]-1')\n",
    "prods2 = AllChem.EnumerateLibraryFromReaction(rxn2,[[ Chem.MolFromSmiles(x) for x in smis ],azide]) >>> smis2 = list(set([Chem.MolToSmiles(x[0],isomericSmiles=True) for x in prods2]))\n",
    "len(smis2)"
   ]
  },
  {
   "cell_type": "code",
   "execution_count": null,
   "id": "84ffee15",
   "metadata": {},
   "outputs": [],
   "source": [
    "#Export results as .CSV File\n",
    ">>> df = pd.DataFrame(smis2, columns=[\"colummn\"])\n",
    "df.to_csv('bis_heterocycles.csv', index=False)"
   ]
  }
 ],
 "metadata": {
  "kernelspec": {
   "display_name": "Python 3 (ipykernel)",
   "language": "python",
   "name": "python3"
  },
  "language_info": {
   "codemirror_mode": {
    "name": "ipython",
    "version": 3
   },
   "file_extension": ".py",
   "mimetype": "text/x-python",
   "name": "python",
   "nbconvert_exporter": "python",
   "pygments_lexer": "ipython3",
   "version": "3.9.18"
  }
 },
 "nbformat": 4,
 "nbformat_minor": 5
}
