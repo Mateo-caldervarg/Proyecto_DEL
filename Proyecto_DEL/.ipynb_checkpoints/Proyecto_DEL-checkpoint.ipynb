{
 "cells": [
  {
   "cell_type": "code",
   "execution_count": 1,
   "id": "8c5435c9-6e12-4f90-9e7e-85a13482052e",
   "metadata": {},
   "outputs": [],
   "source": [
    "import pandas as pd\n",
    "from ClickReaction import CuAAC\n",
    "import rdkit as rk\n",
    "from PIL import Image  # Import PIL for visualization\n",
    "from rdkit import Chem\n",
    "from IPython.display import display\n",
    "from rdkit.Chem import AllChem, Draw\n",
    "from rdkit.Chem.rdMolDescriptors import CalcNumHeteroatoms\n",
    "import random #library for the generation of DNA Tags\n",
    "from openpyxl import Workbook\n",
    "from rdkit.Chem import SDMolSupplier, SDWriter\n",
    "from rdkit.Chem import rdChemReactions\n",
    "from rdkit.Chem.Draw import IPythonConsole  # Ensures images render properly"
   ]
  },
  {
   "cell_type": "code",
   "execution_count": 2,
   "id": "d5c7bbaf",
   "metadata": {},
   "outputs": [],
   "source": [
    "from ClickReaction.BaseReaction import BaseReaction, Reactant, Reactants"
   ]
  },
  {
   "cell_type": "code",
   "execution_count": 7,
   "id": "d81e934a",
   "metadata": {},
   "outputs": [
    {
     "name": "stdout",
     "output_type": "stream",
     "text": [
      "✅ Successfully wrote 3 molecules to azides.sdf\n"
     ]
    }
   ],
   "source": [
    "# List of building blocks in SMILES format\n",
    "BB = ['N=[N+]=NCC1CCCC1', 'N=[N+]=NCc1ccccc1', 'N=[N+]=NCC1CCCCCC1']\n",
    "\n",
    "# Convert SMILES to RDKit Mol objects\n",
    "molecules = []\n",
    "for i, smiles in enumerate(BB):\n",
    "    mol = Chem.MolFromSmiles(smiles)\n",
    "    if mol:\n",
    "        mol.SetProp(\"_Name\", f\"BB_{i}\")  # Assign a name (important for SDF)\n",
    "        AllChem.Compute2DCoords(mol)  # Compute 2D coordinates\n",
    "        molecules.append(mol)\n",
    "    else:\n",
    "        print(f\"❌ Warning: Could not parse SMILES {smiles}\")\n",
    "\n",
    "# Write valid molecules to an SDF file\n",
    "sdf_filename = \"azides.sdf\"\n",
    "with Chem.SDWriter(sdf_filename) as writer:\n",
    "    for mol in molecules:\n",
    "        writer.write(mol)\n",
    "\n",
    "print(f\"✅ Successfully wrote {len(molecules)} molecules to {sdf_filename}\")"
   ]
  },
  {
   "cell_type": "code",
   "execution_count": 84,
   "id": "449bf5de",
   "metadata": {},
   "outputs": [],
   "source": [
    "# Define the electrophile (with the leaving group Br)\n",
    "electrophile_smiles = 'C#CC(Br)c1ccccc1'\n",
    "electrophile = Chem.MolFromSmiles(electrophile_smiles)\n",
    "\n",
    "# Define the nucleophile (amine group with an ether group)\n",
    "nucleophile_smiles = 'Nc1ccoc1'\n",
    "nucleophile = Chem.MolFromSmiles(nucleophile_smiles)\n",
    "\n",
    "# Define the SN2 reaction SMARTS pattern\n",
    "reaction_smarts = '[C:1]-Br.[N:2]>>[C:1]-[N:2]'\n",
    "\n",
    "# Create the reaction object from SMARTS\n",
    "reaction = AllChem.ReactionFromSmarts(reaction_smarts)\n",
    "\n",
    "# Perform the reaction\n",
    "reactants = [electrophile, nucleophile]\n",
    "product_sets = reaction.RunReactants(reactants)\n",
    "\n",
    "# Extract the products\n",
    "products = []\n",
    "for product_set in product_sets:\n",
    "    for product in product_set:\n",
    "        products.append(product)"
   ]
  },
  {
   "cell_type": "code",
   "execution_count": 10,
   "id": "0f527a8b",
   "metadata": {},
   "outputs": [
    {
     "name": "stdout",
     "output_type": "stream",
     "text": [
      "Products saved to products.sdf\n"
     ]
    }
   ],
   "source": [
    "# Define the reactants as SMILES\n",
    "substrate = Chem.MolFromSmiles(\"C#CC(Br)c1ccccc1\")  # 1-bromo-2-phenylprop-1-yne\n",
    "nucleophile = Chem.MolFromSmiles(\"Nc1ccoc1\")  # 2-aminofuran\n",
    "\n",
    "# Define the reaction using SMARTS\n",
    "reaction = AllChem.ReactionFromSmarts(\n",
    "    \"[C:1]([Br:2])=[C:3]#[C:4].[N:5]>>[C:1]([N:5])=[C:3]#[C:4].[Br-:2]\"\n",
    ")\n",
    "\n",
    "# Run the reaction\n",
    "products = reaction.RunReactants((substrate, nucleophile))\n",
    "\n",
    "# Save the products to an SDF file\n",
    "writer = Chem.SDWriter(\"products.sdf\")\n",
    "for prod_set in products:\n",
    "    for prod in prod_set:\n",
    "        writer.write(prod)\n",
    "writer.close()\n",
    "\n",
    "print(\"Products saved to products.sdf\")"
   ]
  },
  {
   "cell_type": "code",
   "execution_count": 6,
   "id": "4183c427",
   "metadata": {},
   "outputs": [
    {
     "name": "stdout",
     "output_type": "stream",
     "text": [
      "Se han generado 12 productos y se han guardado en el archivo productos.sdf.\n"
     ]
    }
   ],
   "source": [
    "# Definir los nucleófilos y electrófilos\n",
    "nucleofilos = [\n",
    "    Chem.MolFromSmiles(\"Nc1ccoc1\"),  # Nucleófilo con nitrógeno\n",
    "    Chem.MolFromSmiles(\"Oc1ccoc1\"),  # Nucleófilo con oxígeno\n",
    "    Chem.MolFromSmiles(\"Sc1cc[nH]c1\"),  # Nucleófilo con azufre\n",
    "    Chem.MolFromSmiles(\"Oc1cc[nH]c1\")  # Otro nucleófilo con oxígeno\n",
    "]\n",
    "\n",
    "electrofilos = [\n",
    "    Chem.MolFromSmiles(\"C#CC(Br)c1ccccc1\"),  # Electrónfilo 1\n",
    "    Chem.MolFromSmiles(\"C#CC(Br)C1CC1\"),     # Electrónfilo 2\n",
    "    Chem.MolFromSmiles(\"C#CC(Br)C1CCCC1\")    # Electrónfilo 3\n",
    "]\n",
    "\n",
    "# Definir la reacción de sustitución nucleofílica\n",
    "reaction = AllChem.ReactionFromSmarts(\"[C:1][Br].[N,O,S:2]>>[C:1][*:2]\")\n",
    "\n",
    "# Crear una lista para almacenar los productos\n",
    "productos = []\n",
    "\n",
    "# Iterar sobre los nucleófilos y electrófilos\n",
    "for nucleofilo in nucleofilos:\n",
    "    for electrofilo in electrofilos:\n",
    "        # Ejecutar la reacción\n",
    "        productos_reaccion = reaction.RunReactants((electrofilo, nucleofilo))\n",
    "        for producto in productos_reaccion:\n",
    "            productos.append(producto[0])  # Agregar el producto a la lista\n",
    "\n",
    "# Guardar los productos en un archivo SDF\n",
    "output_file = \"productos.sdf\"\n",
    "writer = SDWriter(output_file)\n",
    "\n",
    "for producto in productos:\n",
    "    Chem.SanitizeMol(producto)  # Asegurarse de que la molécula sea válida\n",
    "    writer.write(producto)\n",
    "\n",
    "writer.close()\n",
    "print(f\"Se han generado {len(productos)} productos y se han guardado en el archivo {output_file}.\")"
   ]
  },
  {
   "cell_type": "code",
   "execution_count": 25,
   "id": "b7b198e7",
   "metadata": {},
   "outputs": [],
   "source": [
    "alkyne = Chem.MolFromSmiles(\"C#CC(c1ccccc1)N\")\n",
    "azide = Chem.MolFromSmiles(\"C1CCCC1C-[N-]-[N+]#N\")\n",
    "\n",
    "reaction = CuAAC(alkyne=alkyne, azide=azide)\n",
    "product = reaction.get_product()"
   ]
  },
  {
   "cell_type": "code",
   "execution_count": 10,
   "id": "474a9342",
   "metadata": {},
   "outputs": [],
   "source": [
    "supp1 = Chem.SDMolSupplier('productos.sdf')\n",
    "\n",
    "for mol in supp:\n",
    "    if mol is not None: mol.GetNumAtoms()  #Create a list of molecules\n",
    "\n",
    "alkynes = [x for x in supp]\n",
    "\n",
    "supp2 = Chem.SDMolSupplier('azides.sdf')\n",
    "for mol in supp2:\n",
    "    if mol is not None: mol.GetNumAtoms()\n",
    "\n",
    "azides = [x for x in supp2]"
   ]
  },
  {
   "cell_type": "code",
   "execution_count": 18,
   "id": "07be5a22",
   "metadata": {},
   "outputs": [
    {
     "name": "stdout",
     "output_type": "stream",
     "text": [
      "c1ccc(-c2cn(CC3CCCC3)nn2)cc1\n",
      "NC(c1ccccc1)c1cn(CC2CCCC2)nn1\n",
      "COCn1cc(-c2ccccc2)nn1\n",
      "COCn1cc(C(N)c2ccccc2)nn1\n"
     ]
    }
   ],
   "source": [
    "# Example lists of azides and alkynes (replace with your actual molecules)\n",
    "azides = [\n",
    "    Chem.MolFromSmiles(\"C1CCCC1C[N-]-[N+]#N\"),  # Example azide\n",
    "    Chem.MolFromSmiles(\"COC[N-]-[N+]#N\")           # Another azide\n",
    "]\n",
    "\n",
    "alkynes = [\n",
    "    Chem.MolFromSmiles(\"C#CC1=CC=CC=C1\"),          # Example alkyne\n",
    "    Chem.MolFromSmiles(\"C#CC(c1ccccc1)N\") # Another alkyne\n",
    "]\n",
    "\n",
    "\n",
    "# List to store the products\n",
    "Click_products = []\n",
    "\n",
    "# React all azides with all alkynes\n",
    "for azide in azides:\n",
    "    for alkyne in alkynes:\n",
    "        # Perform the CuAAC reaction\n",
    "        reaction = CuAAC(alkyne, azide)\n",
    "        product = reaction.get_product()\n",
    "        if product:  # Ensure the reaction was successful\n",
    "            Click_products.append(product)\n",
    "\n",
    "# Print the SMILES of the products\n",
    "for product in Click_products:\n",
    "    print(Chem.MolToSmiles(product))"
   ]
  },
  {
   "cell_type": "code",
   "execution_count": 3,
   "id": "3b4662af",
   "metadata": {},
   "outputs": [],
   "source": [
    "# Definir los nucleófilos y electrófilos\n",
    "nucleofilos = [\n",
    "    Chem.MolFromSmiles(\"Nc1ccoc1\"),  # Nucleófilo con nitrógeno\n",
    "    Chem.MolFromSmiles(\"Oc1ccoc1\"),  # Nucleófilo con oxígeno\n",
    "    Chem.MolFromSmiles(\"Oc1cc[nH]c1\")  # Otro nucleófilo con oxígeno\n",
    "]\n",
    "\n",
    "electrofilos = [\n",
    "    Chem.MolFromSmiles(\"C#CC(Br)c1ccccc1\"),  # Electrónfilo 1\n",
    "    Chem.MolFromSmiles(\"C#CC(Br)C1CC1\"),     # Electrónfilo 2\n",
    "    Chem.MolFromSmiles(\"C#CC(Br)C1CCCC1\")    # Electrónfilo 3\n",
    "]\n",
    "\n",
    "# Definir la reacción de sustitución nucleofílica\n",
    "reaction = AllChem.ReactionFromSmarts(\"[C:1][Br].[N,O,S:2]>>[C:1][*:2]\")\n",
    "\n",
    "# Crear una lista para almacenar los productos\n",
    "SN2 = []\n",
    "\n",
    "# Iterar sobre los nucleófilos y electrófilos\n",
    "for nucleofilo in nucleofilos:\n",
    "    for electrofilo in electrofilos:\n",
    "        # Ejecutar la reacción\n",
    "        productos_reaccion = reaction.RunReactants((electrofilo, nucleofilo))\n",
    "        for producto in productos_reaccion:\n",
    "            SN2.append(Chem.MolToSmiles(producto[0]))  # Agregar el producto a la lista\n"
   ]
  },
  {
   "cell_type": "code",
   "execution_count": 4,
   "id": "a7582664",
   "metadata": {},
   "outputs": [
    {
     "data": {
      "text/plain": [
       "[<rdkit.Chem.rdchem.Mol at 0x132f0d3c0>,\n",
       " <rdkit.Chem.rdchem.Mol at 0x132f0d430>,\n",
       " <rdkit.Chem.rdchem.Mol at 0x132f0d510>,\n",
       " <rdkit.Chem.rdchem.Mol at 0x132f0d580>,\n",
       " <rdkit.Chem.rdchem.Mol at 0x132f0d5f0>,\n",
       " <rdkit.Chem.rdchem.Mol at 0x132f0d660>,\n",
       " <rdkit.Chem.rdchem.Mol at 0x132f0d6d0>,\n",
       " <rdkit.Chem.rdchem.Mol at 0x132f0d740>,\n",
       " <rdkit.Chem.rdchem.Mol at 0x132f0d7b0>]"
      ]
     },
     "execution_count": 4,
     "metadata": {},
     "output_type": "execute_result"
    }
   ],
   "source": [
    "SN2_products = []\n",
    "\n",
    "for mol in SN2:\n",
    "    SN2_products.append(Chem.MolFromSmiles(mol))\n",
    "    \n",
    "SN2_products"
   ]
  },
  {
   "cell_type": "code",
   "execution_count": 5,
   "id": "a417c6d3",
   "metadata": {},
   "outputs": [],
   "source": [
    "azides = [Chem.MolFromSmiles(\"C1CCCC1C[N-]-[N+]#N\"),  # Example azide\n",
    "          Chem.MolFromSmiles(\"COC[N-]-[N+]#N\")           # Another azide\n",
    "]\n",
    "\n",
    "Click_prods = []\n",
    "\n",
    "for alkyne in SN2_products:\n",
    "    for azide in azides:\n",
    "        reaction = CuAAC(alkyne, azide)\n",
    "        product = reaction.get_product()\n",
    "        Click_prods.append(product)"
   ]
  },
  {
   "cell_type": "code",
   "execution_count": 42,
   "id": "2cb00fbc",
   "metadata": {},
   "outputs": [],
   "source": [
    "sdf_filename = \"Combinatorial_Library.sdf\"\n",
    "with Chem.SDWriter(sdf_filename) as writer:\n",
    "    for mol in Click_products:\n",
    "        writer.write(mol)"
   ]
  },
  {
   "cell_type": "code",
   "execution_count": 6,
   "id": "e950626d",
   "metadata": {},
   "outputs": [],
   "source": [
    "df = pd.read_excel('BB_Tag.xlsx', sheet_name = 'Hoja1')"
   ]
  },
  {
   "cell_type": "code",
   "execution_count": 7,
   "id": "8ba8154c",
   "metadata": {},
   "outputs": [
    {
     "data": {
      "text/html": [
       "<div>\n",
       "<style scoped>\n",
       "    .dataframe tbody tr th:only-of-type {\n",
       "        vertical-align: middle;\n",
       "    }\n",
       "\n",
       "    .dataframe tbody tr th {\n",
       "        vertical-align: top;\n",
       "    }\n",
       "\n",
       "    .dataframe thead th {\n",
       "        text-align: right;\n",
       "    }\n",
       "</style>\n",
       "<table border=\"1\" class=\"dataframe\">\n",
       "  <thead>\n",
       "    <tr style=\"text-align: right;\">\n",
       "      <th></th>\n",
       "      <th>DNA-Tag</th>\n",
       "      <th>Unnamed: 1</th>\n",
       "      <th>SMILES</th>\n",
       "    </tr>\n",
       "  </thead>\n",
       "  <tbody>\n",
       "    <tr>\n",
       "      <th>0</th>\n",
       "      <td>GTTGGGGGTTG</td>\n",
       "      <td>NaN</td>\n",
       "      <td>C#CC(c1ccccc1)N</td>\n",
       "    </tr>\n",
       "    <tr>\n",
       "      <th>1</th>\n",
       "      <td>CATACGCATAC</td>\n",
       "      <td>NaN</td>\n",
       "      <td>C#CCC(c1ccccc1)N</td>\n",
       "    </tr>\n",
       "    <tr>\n",
       "      <th>2</th>\n",
       "      <td>ATTAGGGATTA</td>\n",
       "      <td>NaN</td>\n",
       "      <td>OC(c1cc(Oc2ccccc2)ccc1)=O</td>\n",
       "    </tr>\n",
       "    <tr>\n",
       "      <th>3</th>\n",
       "      <td>GTGCCCCCGTG</td>\n",
       "      <td>NaN</td>\n",
       "      <td>OC(CC(CC1)CCC1C(F)(F)F)=O</td>\n",
       "    </tr>\n",
       "    <tr>\n",
       "      <th>4</th>\n",
       "      <td>GACCTGTCCAG</td>\n",
       "      <td>NaN</td>\n",
       "      <td>OC(C(CC1)CN1c1ccccc1)=O</td>\n",
       "    </tr>\n",
       "    <tr>\n",
       "      <th>5</th>\n",
       "      <td>TAAAACAAAAT</td>\n",
       "      <td>NaN</td>\n",
       "      <td>N=[N+]=NCC1CCCC1</td>\n",
       "    </tr>\n",
       "    <tr>\n",
       "      <th>6</th>\n",
       "      <td>TTATGAGTATT</td>\n",
       "      <td>NaN</td>\n",
       "      <td>N=[N+]=NCc1ccccc1</td>\n",
       "    </tr>\n",
       "    <tr>\n",
       "      <th>7</th>\n",
       "      <td>ACTCCTCCTCA</td>\n",
       "      <td>NaN</td>\n",
       "      <td>N=[N+]=NCC1CCCCCC1</td>\n",
       "    </tr>\n",
       "  </tbody>\n",
       "</table>\n",
       "</div>"
      ],
      "text/plain": [
       "       DNA-Tag  Unnamed: 1                     SMILES\n",
       "0  GTTGGGGGTTG         NaN            C#CC(c1ccccc1)N\n",
       "1  CATACGCATAC         NaN           C#CCC(c1ccccc1)N\n",
       "2  ATTAGGGATTA         NaN  OC(c1cc(Oc2ccccc2)ccc1)=O\n",
       "3  GTGCCCCCGTG         NaN  OC(CC(CC1)CCC1C(F)(F)F)=O\n",
       "4  GACCTGTCCAG         NaN    OC(C(CC1)CN1c1ccccc1)=O\n",
       "5  TAAAACAAAAT         NaN           N=[N+]=NCC1CCCC1\n",
       "6  TTATGAGTATT         NaN          N=[N+]=NCc1ccccc1\n",
       "7  ACTCCTCCTCA         NaN         N=[N+]=NCC1CCCCCC1"
      ]
     },
     "execution_count": 7,
     "metadata": {},
     "output_type": "execute_result"
    }
   ],
   "source": [
    "df"
   ]
  },
  {
   "cell_type": "code",
   "execution_count": 8,
   "id": "354672c6",
   "metadata": {},
   "outputs": [
    {
     "data": {
      "text/plain": [
       "Index(['DNA-Tag', 'Unnamed: 1', 'SMILES'], dtype='object')"
      ]
     },
     "execution_count": 8,
     "metadata": {},
     "output_type": "execute_result"
    }
   ],
   "source": [
    "df.columns"
   ]
  },
  {
   "cell_type": "code",
   "execution_count": 9,
   "id": "07c220b0",
   "metadata": {},
   "outputs": [],
   "source": [
    "new_df = df.drop('Unnamed: 1', axis = 1)"
   ]
  },
  {
   "cell_type": "code",
   "execution_count": 10,
   "id": "3f042eec",
   "metadata": {},
   "outputs": [
    {
     "data": {
      "text/html": [
       "<div>\n",
       "<style scoped>\n",
       "    .dataframe tbody tr th:only-of-type {\n",
       "        vertical-align: middle;\n",
       "    }\n",
       "\n",
       "    .dataframe tbody tr th {\n",
       "        vertical-align: top;\n",
       "    }\n",
       "\n",
       "    .dataframe thead th {\n",
       "        text-align: right;\n",
       "    }\n",
       "</style>\n",
       "<table border=\"1\" class=\"dataframe\">\n",
       "  <thead>\n",
       "    <tr style=\"text-align: right;\">\n",
       "      <th></th>\n",
       "      <th>DNA-Tag</th>\n",
       "      <th>SMILES</th>\n",
       "    </tr>\n",
       "  </thead>\n",
       "  <tbody>\n",
       "    <tr>\n",
       "      <th>0</th>\n",
       "      <td>GTTGGGGGTTG</td>\n",
       "      <td>C#CC(c1ccccc1)N</td>\n",
       "    </tr>\n",
       "    <tr>\n",
       "      <th>1</th>\n",
       "      <td>CATACGCATAC</td>\n",
       "      <td>C#CCC(c1ccccc1)N</td>\n",
       "    </tr>\n",
       "    <tr>\n",
       "      <th>2</th>\n",
       "      <td>ATTAGGGATTA</td>\n",
       "      <td>OC(c1cc(Oc2ccccc2)ccc1)=O</td>\n",
       "    </tr>\n",
       "    <tr>\n",
       "      <th>3</th>\n",
       "      <td>GTGCCCCCGTG</td>\n",
       "      <td>OC(CC(CC1)CCC1C(F)(F)F)=O</td>\n",
       "    </tr>\n",
       "    <tr>\n",
       "      <th>4</th>\n",
       "      <td>GACCTGTCCAG</td>\n",
       "      <td>OC(C(CC1)CN1c1ccccc1)=O</td>\n",
       "    </tr>\n",
       "    <tr>\n",
       "      <th>5</th>\n",
       "      <td>TAAAACAAAAT</td>\n",
       "      <td>N=[N+]=NCC1CCCC1</td>\n",
       "    </tr>\n",
       "    <tr>\n",
       "      <th>6</th>\n",
       "      <td>TTATGAGTATT</td>\n",
       "      <td>N=[N+]=NCc1ccccc1</td>\n",
       "    </tr>\n",
       "    <tr>\n",
       "      <th>7</th>\n",
       "      <td>ACTCCTCCTCA</td>\n",
       "      <td>N=[N+]=NCC1CCCCCC1</td>\n",
       "    </tr>\n",
       "  </tbody>\n",
       "</table>\n",
       "</div>"
      ],
      "text/plain": [
       "       DNA-Tag                     SMILES\n",
       "0  GTTGGGGGTTG            C#CC(c1ccccc1)N\n",
       "1  CATACGCATAC           C#CCC(c1ccccc1)N\n",
       "2  ATTAGGGATTA  OC(c1cc(Oc2ccccc2)ccc1)=O\n",
       "3  GTGCCCCCGTG  OC(CC(CC1)CCC1C(F)(F)F)=O\n",
       "4  GACCTGTCCAG    OC(C(CC1)CN1c1ccccc1)=O\n",
       "5  TAAAACAAAAT           N=[N+]=NCC1CCCC1\n",
       "6  TTATGAGTATT          N=[N+]=NCc1ccccc1\n",
       "7  ACTCCTCCTCA         N=[N+]=NCC1CCCCCC1"
      ]
     },
     "execution_count": 10,
     "metadata": {},
     "output_type": "execute_result"
    }
   ],
   "source": [
    "new_df"
   ]
  },
  {
   "cell_type": "code",
   "execution_count": 11,
   "id": "89fe5791",
   "metadata": {},
   "outputs": [],
   "source": [
    "dict = new_df.set_index('DNA-Tag').T.to_dict('list')"
   ]
  },
  {
   "cell_type": "code",
   "execution_count": 12,
   "id": "6c14fabb",
   "metadata": {},
   "outputs": [
    {
     "data": {
      "text/plain": [
       "{'GTTGGGGGTTG': ['C#CC(c1ccccc1)N'],\n",
       " 'CATACGCATAC': ['C#CCC(c1ccccc1)N'],\n",
       " 'ATTAGGGATTA': ['OC(c1cc(Oc2ccccc2)ccc1)=O'],\n",
       " 'GTGCCCCCGTG': ['OC(CC(CC1)CCC1C(F)(F)F)=O'],\n",
       " 'GACCTGTCCAG': ['OC(C(CC1)CN1c1ccccc1)=O'],\n",
       " 'TAAAACAAAAT': ['N=[N+]=NCC1CCCC1'],\n",
       " 'TTATGAGTATT': ['N=[N+]=NCc1ccccc1'],\n",
       " 'ACTCCTCCTCA': ['N=[N+]=NCC1CCCCCC1']}"
      ]
     },
     "execution_count": 12,
     "metadata": {},
     "output_type": "execute_result"
    }
   ],
   "source": [
    "dict"
   ]
  },
  {
   "cell_type": "code",
   "execution_count": 22,
   "id": "daef75af",
   "metadata": {},
   "outputs": [
    {
     "data": {
      "text/plain": [
       "['C#CC(c1ccccc1)N']"
      ]
     },
     "execution_count": 22,
     "metadata": {},
     "output_type": "execute_result"
    }
   ],
   "source": [
    "dict['GTTGGGGGTTG']"
   ]
  },
  {
   "cell_type": "code",
   "execution_count": 13,
   "id": "f94f3cd2",
   "metadata": {},
   "outputs": [
    {
     "data": {
      "text/plain": [
       "['N=[N+]=NCC1CCCC1']"
      ]
     },
     "execution_count": 13,
     "metadata": {},
     "output_type": "execute_result"
    }
   ],
   "source": [
    "dict['TAAAACAAAAT']"
   ]
  },
  {
   "cell_type": "code",
   "execution_count": null,
   "id": "d45d6a9b",
   "metadata": {},
   "outputs": [],
   "source": []
  }
 ],
 "metadata": {
  "kernelspec": {
   "display_name": "Python 3 (ipykernel)",
   "language": "python",
   "name": "python3"
  },
  "language_info": {
   "codemirror_mode": {
    "name": "ipython",
    "version": 3
   },
   "file_extension": ".py",
   "mimetype": "text/x-python",
   "name": "python",
   "nbconvert_exporter": "python",
   "pygments_lexer": "ipython3",
   "version": "3.9.18"
  }
 },
 "nbformat": 4,
 "nbformat_minor": 5
}
