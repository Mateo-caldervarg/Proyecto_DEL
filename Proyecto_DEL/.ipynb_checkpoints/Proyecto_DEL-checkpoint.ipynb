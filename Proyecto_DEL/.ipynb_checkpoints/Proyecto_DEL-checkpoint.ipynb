{
 "cells": [
  {
   "cell_type": "code",
   "execution_count": 2,
   "id": "8c5435c9-6e12-4f90-9e7e-85a13482052e",
   "metadata": {},
   "outputs": [],
   "source": [
    "import pandas as pd\n",
    "import rdkit as rk\n",
    "from PIL import Image  # Import PIL for visualization\n",
    "from rdkit import Chem\n",
    "from IPython.display import display\n",
    "from rdkit.Chem import AllChem, Draw\n",
    "from rdkit.Chem.rdMolDescriptors import CalcNumHeteroatoms\n",
    "import random #library for the generation of DNA Tags\n",
    "from openpyxl import Workbook\n",
    "from rdkit.Chem import SDMolSupplier, SDWriter\n",
    "from rdkit.Chem import rdChemReactions\n",
    "from ClickReaction import CuAAC\n",
    "from rdkit.Chem.Draw import IPythonConsole  # Ensures images render properly"
   ]
  },
  {
   "cell_type": "code",
   "execution_count": 7,
   "id": "f84b8805",
   "metadata": {},
   "outputs": [
    {
     "name": "stdout",
     "output_type": "stream",
     "text": [
      "SMARTS Notation: *-[#7].*-[#6:4](-*)-[#35]>>*-[#6:4](-*)-[#7]-*.[#35]\n"
     ]
    }
   ],
   "source": [
    "# Define the reactant and product SMILES\n",
    "def rxn_to_smarts(rxn_file):\n",
    "    # Load reaction from RXN file\n",
    "    with open(rxn_file_path, \"r\") as file:\n",
    "        rxn_block = file.read()\n",
    "    \n",
    "    reaction = rdChemReactions.ReactionFromRxnBlock(rxn_block)\n",
    "    \n",
    "    if reaction is None:\n",
    "        raise ValueError(\"Invalid RXN file or unable to parse.\")\n",
    "    \n",
    "    # Convert to SMARTS notation\n",
    "    smarts_notation = rdChemReactions.ReactionToSmarts(reaction)\n",
    "    \n",
    "    return smarts_notation\n",
    "\n",
    "# Example Usage:\n",
    "rxn_file_path = \"ketcher.rxn\"  # Replace with your actual RXN file path\n",
    "smarts = rxn_to_smarts(rxn_file_path)\n",
    "print(\"SMARTS Notation:\", smarts)"
   ]
  },
  {
   "cell_type": "code",
   "execution_count": 8,
   "id": "6f60cc8d-574f-4e2d-9242-67bdcdcd3327",
   "metadata": {},
   "outputs": [
    {
     "name": "stdout",
     "output_type": "stream",
     "text": [
      "ATGCC\n",
      "CAGAA\n",
      "CTCTA\n",
      "CCTGA\n",
      "CATCC\n",
      "TAGCG\n",
      "GCCAA\n",
      "TGTGT\n",
      "ATAAT\n",
      "CCTTA\n"
     ]
    }
   ],
   "source": [
    "# Function to generate a random DNA sequence of length 5\n",
    "def generate_random_sequences(num_sequences=10, length=5):\n",
    "    sequences = [''.join(random.choices(\"ACGT\", k=length)) for _ in range(num_sequences)]\n",
    "    return sequences\n",
    "\n",
    "# Generate and print 10 random sequences of length 5\n",
    "random_sequences = generate_random_sequences(10, 5)\n",
    "for seq in random_sequences:\n",
    "    print(seq)"
   ]
  },
  {
   "cell_type": "code",
   "execution_count": 7,
   "id": "d81e934a",
   "metadata": {},
   "outputs": [
    {
     "name": "stdout",
     "output_type": "stream",
     "text": [
      "✅ Successfully wrote 3 molecules to azides.sdf\n"
     ]
    }
   ],
   "source": [
    "# List of building blocks in SMILES format\n",
    "BB = ['N=[N+]=NCC1CCCC1', 'N=[N+]=NCc1ccccc1', 'N=[N+]=NCC1CCCCCC1']\n",
    "\n",
    "# Convert SMILES to RDKit Mol objects\n",
    "molecules = []\n",
    "for i, smiles in enumerate(BB):\n",
    "    mol = Chem.MolFromSmiles(smiles)\n",
    "    if mol:\n",
    "        mol.SetProp(\"_Name\", f\"BB_{i}\")  # Assign a name (important for SDF)\n",
    "        AllChem.Compute2DCoords(mol)  # Compute 2D coordinates\n",
    "        molecules.append(mol)\n",
    "    else:\n",
    "        print(f\"❌ Warning: Could not parse SMILES {smiles}\")\n",
    "\n",
    "# Write valid molecules to an SDF file\n",
    "sdf_filename = \"azides.sdf\"\n",
    "with Chem.SDWriter(sdf_filename) as writer:\n",
    "    for mol in molecules:\n",
    "        writer.write(mol)\n",
    "\n",
    "print(f\"✅ Successfully wrote {len(molecules)} molecules to {sdf_filename}\")"
   ]
  },
  {
   "cell_type": "code",
   "execution_count": 84,
   "id": "449bf5de",
   "metadata": {},
   "outputs": [],
   "source": [
    "# Define the electrophile (with the leaving group Br)\n",
    "electrophile_smiles = 'C#CC(Br)c1ccccc1'\n",
    "electrophile = Chem.MolFromSmiles(electrophile_smiles)\n",
    "\n",
    "# Define the nucleophile (amine group with an ether group)\n",
    "nucleophile_smiles = 'Nc1ccoc1'\n",
    "nucleophile = Chem.MolFromSmiles(nucleophile_smiles)\n",
    "\n",
    "# Define the SN2 reaction SMARTS pattern\n",
    "reaction_smarts = '[C:1]-Br.[N:2]>>[C:1]-[N:2]'\n",
    "\n",
    "# Create the reaction object from SMARTS\n",
    "reaction = AllChem.ReactionFromSmarts(reaction_smarts)\n",
    "\n",
    "# Perform the reaction\n",
    "reactants = [electrophile, nucleophile]\n",
    "product_sets = reaction.RunReactants(reactants)\n",
    "\n",
    "# Extract the products\n",
    "products = []\n",
    "for product_set in product_sets:\n",
    "    for product in product_set:\n",
    "        products.append(product)"
   ]
  },
  {
   "cell_type": "code",
   "execution_count": 10,
   "id": "0f527a8b",
   "metadata": {},
   "outputs": [
    {
     "name": "stdout",
     "output_type": "stream",
     "text": [
      "Products saved to products.sdf\n"
     ]
    }
   ],
   "source": [
    "# Define the reactants as SMILES\n",
    "substrate = Chem.MolFromSmiles(\"C#CC(Br)c1ccccc1\")  # 1-bromo-2-phenylprop-1-yne\n",
    "nucleophile = Chem.MolFromSmiles(\"Nc1ccoc1\")  # 2-aminofuran\n",
    "\n",
    "# Define the reaction using SMARTS\n",
    "reaction = AllChem.ReactionFromSmarts(\n",
    "    \"[C:1]([Br:2])=[C:3]#[C:4].[N:5]>>[C:1]([N:5])=[C:3]#[C:4].[Br-:2]\"\n",
    ")\n",
    "\n",
    "# Run the reaction\n",
    "products = reaction.RunReactants((substrate, nucleophile))\n",
    "\n",
    "# Save the products to an SDF file\n",
    "writer = Chem.SDWriter(\"products.sdf\")\n",
    "for prod_set in products:\n",
    "    for prod in prod_set:\n",
    "        writer.write(prod)\n",
    "writer.close()\n",
    "\n",
    "print(\"Products saved to products.sdf\")"
   ]
  },
  {
   "cell_type": "code",
   "execution_count": 6,
   "id": "4183c427",
   "metadata": {},
   "outputs": [
    {
     "name": "stdout",
     "output_type": "stream",
     "text": [
      "Se han generado 12 productos y se han guardado en el archivo productos.sdf.\n"
     ]
    }
   ],
   "source": [
    "# Definir los nucleófilos y electrófilos\n",
    "nucleofilos = [\n",
    "    Chem.MolFromSmiles(\"Nc1ccoc1\"),  # Nucleófilo con nitrógeno\n",
    "    Chem.MolFromSmiles(\"Oc1ccoc1\"),  # Nucleófilo con oxígeno\n",
    "    Chem.MolFromSmiles(\"Sc1cc[nH]c1\"),  # Nucleófilo con azufre\n",
    "    Chem.MolFromSmiles(\"Oc1cc[nH]c1\")  # Otro nucleófilo con oxígeno\n",
    "]\n",
    "\n",
    "electrofilos = [\n",
    "    Chem.MolFromSmiles(\"C#CC(Br)c1ccccc1\"),  # Electrónfilo 1\n",
    "    Chem.MolFromSmiles(\"C#CC(Br)C1CC1\"),     # Electrónfilo 2\n",
    "    Chem.MolFromSmiles(\"C#CC(Br)C1CCCC1\")    # Electrónfilo 3\n",
    "]\n",
    "\n",
    "# Definir la reacción de sustitución nucleofílica\n",
    "reaction = AllChem.ReactionFromSmarts(\"[C:1][Br].[N,O,S:2]>>[C:1][*:2]\")\n",
    "\n",
    "# Crear una lista para almacenar los productos\n",
    "productos = []\n",
    "\n",
    "# Iterar sobre los nucleófilos y electrófilos\n",
    "for nucleofilo in nucleofilos:\n",
    "    for electrofilo in electrofilos:\n",
    "        # Ejecutar la reacción\n",
    "        productos_reaccion = reaction.RunReactants((electrofilo, nucleofilo))\n",
    "        for producto in productos_reaccion:\n",
    "            productos.append(producto[0])  # Agregar el producto a la lista\n",
    "\n",
    "# Guardar los productos en un archivo SDF\n",
    "output_file = \"productos.sdf\"\n",
    "writer = SDWriter(output_file)\n",
    "\n",
    "for producto in productos:\n",
    "    Chem.SanitizeMol(producto)  # Asegurarse de que la molécula sea válida\n",
    "    writer.write(producto)\n",
    "\n",
    "writer.close()\n",
    "print(f\"Se han generado {len(productos)} productos y se han guardado en el archivo {output_file}.\")"
   ]
  },
  {
   "cell_type": "code",
   "execution_count": 19,
   "id": "16b7ac00",
   "metadata": {},
   "outputs": [
    {
     "name": "stdout",
     "output_type": "stream",
     "text": [
      "Imágenes generadas y guardadas como 'azida_enumerada.png' y 'alquino_enumerado.png'.\n"
     ]
    }
   ],
   "source": [
    "# Definir las moléculas en formato SMILES\n",
    "smiles_azida = \"N=[N+]=NCC1CCCC1\"  # Azida\n",
    "smiles_alquino = \"C#CC(Br)c1ccccc1\"  # Alquino\n",
    "\n",
    "# Convertir los SMILES a objetos Mol de RDKit\n",
    "mol_azida = Chem.MolFromSmiles(smiles_azida)\n",
    "mol_alquino = Chem.MolFromSmiles(smiles_alquino)\n",
    "\n",
    "# Enumerar los átomos en las moléculas\n",
    "for atom in mol_azida.GetAtoms():\n",
    "    atom.SetProp(\"atomNote\", str(atom.GetIdx()))  # Agregar el índice del átomo como nota\n",
    "for atom in mol_alquino.GetAtoms():\n",
    "    atom.SetProp(\"atomNote\", str(atom.GetIdx()))  # Agregar el índice del átomo como nota\n",
    "\n",
    "# Dibujar las moléculas con los átomos enumerados\n",
    "img_azida = Draw.MolToImage(mol_azida, legend=\"Azida: N=[N+]=NCC1CCCC1\")\n",
    "img_alquino = Draw.MolToImage(mol_alquino, legend=\"Alquino: C#CC(Br)c1ccccc1\")\n",
    "\n",
    "# Mostrar las imágenes\n",
    "img_azida.show()\n",
    "img_alquino.show()\n",
    "\n",
    "# Guardar las imágenes en archivos\n",
    "img_azida.save(\"azida_enumerada.png\")\n",
    "img_alquino.save(\"alquino_enumerado.png\")\n",
    "\n",
    "print(\"Imágenes generadas y guardadas como 'azida_enumerada.png' y 'alquino_enumerado.png'.\")"
   ]
  },
  {
   "cell_type": "code",
   "execution_count": 25,
   "id": "b7b198e7",
   "metadata": {},
   "outputs": [],
   "source": [
    "alkyne = Chem.MolFromSmiles(\"C#CC(c1ccccc1)N\")\n",
    "azide = Chem.MolFromSmiles(\"C1CCCC1C-[N-]-[N+]#N\")\n",
    "\n",
    "reaction = CuAAC(alkyne=alkyne, azide=azide)\n",
    "product = reaction.get_product()"
   ]
  },
  {
   "cell_type": "code",
   "execution_count": 10,
   "id": "474a9342",
   "metadata": {},
   "outputs": [],
   "source": [
    "supp1 = Chem.SDMolSupplier('productos.sdf')\n",
    "\n",
    "for mol in supp:\n",
    "    if mol is not None: mol.GetNumAtoms()  #Create a list of molecules\n",
    "\n",
    "alkynes = [x for x in supp]\n",
    "\n",
    "supp2 = Chem.SDMolSupplier('azides.sdf')\n",
    "for mol in supp2:\n",
    "    if mol is not None: mol.GetNumAtoms()\n",
    "\n",
    "azides = [x for x in supp2]"
   ]
  },
  {
   "cell_type": "code",
   "execution_count": 21,
   "id": "07be5a22",
   "metadata": {},
   "outputs": [
    {
     "name": "stdout",
     "output_type": "stream",
     "text": [
      "c1ccc(-c2cn(CC3CCCC3)nn2)cc1\n",
      "NC(c1ccccc1)c1cn(CC2CCCC2)nn1\n",
      "COCn1cc(-c2ccccc2)nn1\n",
      "COCn1cc(C(N)c2ccccc2)nn1\n"
     ]
    }
   ],
   "source": [
    "# Example lists of azides and alkynes (replace with your actual molecules)\n",
    "azides = [\n",
    "    Chem.MolFromSmiles(\"C1CCCC1C[N-]-[N+]#N\"),  # Example azide\n",
    "    Chem.MolFromSmiles(\"COC[N-]-[N+]#N\")           # Another azide\n",
    "]\n",
    "\n",
    "alkynes = [\n",
    "    Chem.MolFromSmiles(\"C#CC1=CC=CC=C1\"),          # Example alkyne\n",
    "    Chem.MolFromSmiles(\"C#CC(c1ccccc1)N\") # Another alkyne\n",
    "]\n",
    "\n",
    "\n",
    "# List to store the products\n",
    "Click_products = []\n",
    "\n",
    "# React all azides with all alkynes\n",
    "for azide in azides:\n",
    "    for alkyne in alkynes:\n",
    "        # Perform the CuAAC reaction\n",
    "        reaction = CuAAC(alkyne, azide)\n",
    "        product = reaction.get_product()\n",
    "        if product:  # Ensure the reaction was successful\n",
    "            products.append(product)\n",
    "\n",
    "# Print the SMILES of the products\n",
    "for product in products:\n",
    "    print(Chem.MolToSmiles(product))"
   ]
  },
  {
   "cell_type": "code",
   "execution_count": 27,
   "id": "3b4662af",
   "metadata": {},
   "outputs": [],
   "source": [
    "# Definir los nucleófilos y electrófilos\n",
    "nucleofilos = [\n",
    "    Chem.MolFromSmiles(\"Nc1ccoc1\"),  # Nucleófilo con nitrógeno\n",
    "    Chem.MolFromSmiles(\"Oc1ccoc1\"),  # Nucleófilo con oxígeno\n",
    "    Chem.MolFromSmiles(\"Oc1cc[nH]c1\")  # Otro nucleófilo con oxígeno\n",
    "]\n",
    "\n",
    "electrofilos = [\n",
    "    Chem.MolFromSmiles(\"C#CC(Br)c1ccccc1\"),  # Electrónfilo 1\n",
    "    Chem.MolFromSmiles(\"C#CC(Br)C1CC1\"),     # Electrónfilo 2\n",
    "    Chem.MolFromSmiles(\"C#CC(Br)C1CCCC1\")    # Electrónfilo 3\n",
    "]\n",
    "\n",
    "# Definir la reacción de sustitución nucleofílica\n",
    "reaction = AllChem.ReactionFromSmarts(\"[C:1][Br].[N,O,S:2]>>[C:1][*:2]\")\n",
    "\n",
    "# Crear una lista para almacenar los productos\n",
    "SN2_products = []\n",
    "\n",
    "# Iterar sobre los nucleófilos y electrófilos\n",
    "for nucleofilo in nucleofilos:\n",
    "    for electrofilo in electrofilos:\n",
    "        # Ejecutar la reacción\n",
    "        productos_reaccion = reaction.RunReactants((electrofilo, nucleofilo))\n",
    "        for producto in productos_reaccion:\n",
    "            SN2_products.append(producto[0])  # Agregar el producto a la lista\n"
   ]
  },
  {
   "cell_type": "code",
   "execution_count": null,
   "id": "262345e0",
   "metadata": {},
   "outputs": [],
   "source": []
  },
  {
   "cell_type": "code",
   "execution_count": 38,
   "id": "a417c6d3",
   "metadata": {},
   "outputs": [
    {
     "name": "stderr",
     "output_type": "stream",
     "text": [
      "[16:32:39] \n",
      "\n",
      "****\n",
      "Pre-condition Violation\n",
      "getNumImplicitHs() called without preceding call to calcImplicitValence()\n",
      "Violation occurred on line 304 in file /Users/runner/work/rdkit-pypi/rdkit-pypi/build/temp.macosx-10.9-x86_64-cpython-39/rdkit/Code/GraphMol/Atom.cpp\n",
      "Failed Expression: d_implicitValence > -1\n",
      "****\n",
      "\n"
     ]
    },
    {
     "ename": "RuntimeError",
     "evalue": "Pre-condition Violation\n\tgetNumImplicitHs() called without preceding call to calcImplicitValence()\n\tViolation occurred on line 304 in file Code/GraphMol/Atom.cpp\n\tFailed Expression: d_implicitValence > -1\n\tRDKIT: 2024.09.5\n\tBOOST: 1_85\n",
     "output_type": "error",
     "traceback": [
      "\u001b[0;31m---------------------------------------------------------------------------\u001b[0m",
      "\u001b[0;31mRuntimeError\u001b[0m                              Traceback (most recent call last)",
      "Cell \u001b[0;32mIn[38], line 6\u001b[0m\n\u001b[1;32m      4\u001b[0m \u001b[38;5;28;01mfor\u001b[39;00m azide \u001b[38;5;129;01min\u001b[39;00m azides:\n\u001b[1;32m      5\u001b[0m     reaction \u001b[38;5;241m=\u001b[39m CuAAC(alkyne, azide)\n\u001b[0;32m----> 6\u001b[0m     product \u001b[38;5;241m=\u001b[39m \u001b[43mreaction\u001b[49m\u001b[38;5;241;43m.\u001b[39;49m\u001b[43mget_product\u001b[49m\u001b[43m(\u001b[49m\u001b[43m)\u001b[49m\n\u001b[1;32m      7\u001b[0m     Click_prods2\u001b[38;5;241m.\u001b[39mappend(product)\n",
      "File \u001b[0;32m~/miniforge3/envs/my_first_env/lib/python3.9/site-packages/ClickReaction/BaseReaction.py:116\u001b[0m, in \u001b[0;36mBaseReaction.get_product\u001b[0;34m(self, symmetrical_as_one)\u001b[0m\n\u001b[1;32m    108\u001b[0m \u001b[38;5;250m\u001b[39m\u001b[38;5;124;03m\"\"\"\u001b[39;00m\n\u001b[1;32m    109\u001b[0m \u001b[38;5;124;03mReturns one product and raises an exception if multiple products are possible.\u001b[39;00m\n\u001b[1;32m    110\u001b[0m \n\u001b[1;32m    111\u001b[0m \u001b[38;5;124;03m:param symmetrical_as_one: Set to true to remove all but one instance of identical products.\u001b[39;00m\n\u001b[1;32m    112\u001b[0m \u001b[38;5;124;03m:return:\u001b[39;00m\n\u001b[1;32m    113\u001b[0m \u001b[38;5;124;03m\"\"\"\u001b[39;00m\n\u001b[1;32m    115\u001b[0m \u001b[38;5;66;03m# Get all possible products\u001b[39;00m\n\u001b[0;32m--> 116\u001b[0m products \u001b[38;5;241m=\u001b[39m \u001b[38;5;28;43mself\u001b[39;49m\u001b[38;5;241;43m.\u001b[39;49m\u001b[43mget_products\u001b[49m\u001b[43m(\u001b[49m\u001b[43msymmetrical_as_one\u001b[49m\u001b[38;5;241;43m=\u001b[39;49m\u001b[43msymmetrical_as_one\u001b[49m\u001b[43m)\u001b[49m\n\u001b[1;32m    118\u001b[0m \u001b[38;5;66;03m# More than one product is unexpected, raise an error to make the user aware.\u001b[39;00m\n\u001b[1;32m    119\u001b[0m \u001b[38;5;28;01mif\u001b[39;00m \u001b[38;5;28mlen\u001b[39m(products) \u001b[38;5;241m>\u001b[39m \u001b[38;5;241m1\u001b[39m:\n",
      "File \u001b[0;32m~/miniforge3/envs/my_first_env/lib/python3.9/site-packages/ClickReaction/BaseReaction.py:81\u001b[0m, in \u001b[0;36mBaseReaction.get_products\u001b[0;34m(self, symmetrical_as_one)\u001b[0m\n\u001b[1;32m     74\u001b[0m \u001b[38;5;28;01mdef\u001b[39;00m \u001b[38;5;21mget_products\u001b[39m(\u001b[38;5;28mself\u001b[39m, symmetrical_as_one: \u001b[38;5;28mbool\u001b[39m \u001b[38;5;241m=\u001b[39m \u001b[38;5;28;01mFalse\u001b[39;00m) \u001b[38;5;241m-\u001b[39m\u001b[38;5;241m>\u001b[39m List[Mol]:\n\u001b[1;32m     75\u001b[0m \u001b[38;5;250m    \u001b[39m\u001b[38;5;124;03m\"\"\"\u001b[39;00m\n\u001b[1;32m     76\u001b[0m \u001b[38;5;124;03m    Returns a list of all possible products.\u001b[39;00m\n\u001b[1;32m     77\u001b[0m \n\u001b[1;32m     78\u001b[0m \u001b[38;5;124;03m    :param symmetrical_as_one: Set to true if symmetrical products should get reduced to one.\u001b[39;00m\n\u001b[1;32m     79\u001b[0m \u001b[38;5;124;03m    :return:\u001b[39;00m\n\u001b[1;32m     80\u001b[0m \u001b[38;5;124;03m    \"\"\"\u001b[39;00m\n\u001b[0;32m---> 81\u001b[0m     productSets \u001b[38;5;241m=\u001b[39m \u001b[38;5;28;43mself\u001b[39;49m\u001b[38;5;241;43m.\u001b[39;49m\u001b[43m__runReaction__\u001b[49m\u001b[43m(\u001b[49m\u001b[38;5;28;43mself\u001b[39;49m\u001b[38;5;241;43m.\u001b[39;49m\u001b[43mget_reactants\u001b[49m\u001b[43m(\u001b[49m\u001b[43m)\u001b[49m\u001b[43m)\u001b[49m\n\u001b[1;32m     83\u001b[0m     \u001b[38;5;28;01mif\u001b[39;00m productSets \u001b[38;5;129;01mis\u001b[39;00m \u001b[38;5;28;01mNone\u001b[39;00m:\n\u001b[1;32m     84\u001b[0m         \u001b[38;5;28;01mraise\u001b[39;00m \u001b[38;5;167;01mException\u001b[39;00m(\u001b[38;5;124m\"\u001b[39m\u001b[38;5;124mNo product set was returned.\u001b[39m\u001b[38;5;124m\"\u001b[39m)\n",
      "File \u001b[0;32m~/miniforge3/envs/my_first_env/lib/python3.9/site-packages/ClickReaction/Reactions/CuAAC.py:20\u001b[0m, in \u001b[0;36mCuAAC.__runReaction__\u001b[0;34m(self, reactants)\u001b[0m\n\u001b[1;32m     19\u001b[0m \u001b[38;5;28;01mdef\u001b[39;00m \u001b[38;5;21m__runReaction__\u001b[39m(\u001b[38;5;28mself\u001b[39m, reactants: Reactants):\n\u001b[0;32m---> 20\u001b[0m     \u001b[38;5;28;01mreturn\u001b[39;00m \u001b[38;5;28;43mself\u001b[39;49m\u001b[38;5;241;43m.\u001b[39;49m\u001b[43m_rdReaction\u001b[49m\u001b[38;5;241;43m.\u001b[39;49m\u001b[43mRunReactants\u001b[49m\u001b[43m(\u001b[49m\u001b[43m(\u001b[49m\u001b[43mreactants\u001b[49m\u001b[43m[\u001b[49m\u001b[38;5;124;43m\"\u001b[39;49m\u001b[38;5;124;43malkyne\u001b[39;49m\u001b[38;5;124;43m\"\u001b[39;49m\u001b[43m]\u001b[49m\u001b[43m,\u001b[49m\u001b[43m \u001b[49m\u001b[43mreactants\u001b[49m\u001b[43m[\u001b[49m\u001b[38;5;124;43m\"\u001b[39;49m\u001b[38;5;124;43mazide\u001b[39;49m\u001b[38;5;124;43m\"\u001b[39;49m\u001b[43m]\u001b[49m\u001b[43m)\u001b[49m\u001b[43m)\u001b[49m\n",
      "\u001b[0;31mRuntimeError\u001b[0m: Pre-condition Violation\n\tgetNumImplicitHs() called without preceding call to calcImplicitValence()\n\tViolation occurred on line 304 in file Code/GraphMol/Atom.cpp\n\tFailed Expression: d_implicitValence > -1\n\tRDKIT: 2024.09.5\n\tBOOST: 1_85\n"
     ]
    }
   ],
   "source": [
    "Click_prods2 = []\n",
    "\n",
    "for alkyne in SN2_products:\n",
    "    for azide in azides:\n",
    "        reaction = CuAAC(alkyne, azide)\n",
    "        product = reaction.get_product()\n",
    "        Click_prods2.append(product)"
   ]
  },
  {
   "cell_type": "code",
   "execution_count": 31,
   "id": "219da7de",
   "metadata": {},
   "outputs": [
    {
     "data": {
      "image/png": "[encoded data removed]",
      "text/plain": [
       "<rdkit.Chem.rdchem.Mol at 0x136418120>"
      ]
     },
     "execution_count": 31,
     "metadata": {},
     "output_type": "execute_result"
    }
   ],
   "source": [
    "reaction = CuAAC(SN2_products[1], azides[1])\n",
    "product = reaction.get_product()\n",
    "product"
   ]
  },
  {
   "cell_type": "code",
   "execution_count": null,
   "id": "29133703",
   "metadata": {},
   "outputs": [],
   "source": []
  }
 ],
 "metadata": {
  "kernelspec": {
   "display_name": "Python 3 (ipykernel)",
   "language": "python",
   "name": "python3"
  },
  "language_info": {
   "codemirror_mode": {
    "name": "ipython",
    "version": 3
   },
   "file_extension": ".py",
   "mimetype": "text/x-python",
   "name": "python",
   "nbconvert_exporter": "python",
   "pygments_lexer": "ipython3",
   "version": "3.9.18"
  }
 },
 "nbformat": 4,
 "nbformat_minor": 5
}
