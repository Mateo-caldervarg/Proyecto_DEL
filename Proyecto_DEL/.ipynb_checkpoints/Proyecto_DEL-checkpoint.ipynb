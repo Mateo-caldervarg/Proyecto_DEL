{
 "cells": [
  {
   "cell_type": "code",
   "execution_count": 33,
   "id": "8c5435c9-6e12-4f90-9e7e-85a13482052e",
   "metadata": {},
   "outputs": [],
   "source": [
    "import pandas as pd\n",
    "from ClickReaction import CuAAC\n",
    "import rdkit as rk\n",
    "from PIL import Image  # Import PIL for visualization\n",
    "from rdkit import Chem\n",
    "from IPython.display import display\n",
    "from rdkit.Chem import AllChem, Draw\n",
    "from rdkit.Chem.rdMolDescriptors import CalcNumHeteroatoms\n",
    "import random #library for the generation of DNA Tags\n",
    "from openpyxl import Workbook\n",
    "from rdkit.Chem import SDMolSupplier, SDWriter\n",
    "from rdkit.Chem import rdChemReactions\n",
    "from rdkit.Chem.Draw import IPythonConsole  # Ensures images render properly\n",
    "from ClickReaction.BaseReaction import BaseReaction, Reactant, Reactants\n",
    "from rdkit.Chem import PandasTools\n",
    "from rdkit import DataStructs\n",
    "import numpy as np"
   ]
  },
  {
   "cell_type": "code",
   "execution_count": 7,
   "id": "d81e934a",
   "metadata": {},
   "outputs": [
    {
     "name": "stdout",
     "output_type": "stream",
     "text": [
      "✅ Successfully wrote 3 molecules to azides.sdf\n"
     ]
    }
   ],
   "source": [
    "# List of building blocks in SMILES format\n",
    "BB = ['N=[N+]=NCC1CCCC1', 'N=[N+]=NCc1ccccc1', 'N=[N+]=NCC1CCCCCC1']\n",
    "\n",
    "# Convert SMILES to RDKit Mol objects\n",
    "molecules = []\n",
    "for i, smiles in enumerate(BB):\n",
    "    mol = Chem.MolFromSmiles(smiles)\n",
    "    if mol:\n",
    "        mol.SetProp(\"_Name\", f\"BB_{i}\")  # Assign a name (important for SDF)\n",
    "        AllChem.Compute2DCoords(mol)  # Compute 2D coordinates\n",
    "        molecules.append(mol)\n",
    "    else:\n",
    "        print(f\"❌ Warning: Could not parse SMILES {smiles}\")\n",
    "\n",
    "# Write valid molecules to an SDF file\n",
    "sdf_filename = \"azides.sdf\"\n",
    "with Chem.SDWriter(sdf_filename) as writer:\n",
    "    for mol in molecules:\n",
    "        writer.write(mol)\n",
    "\n",
    "print(f\"✅ Successfully wrote {len(molecules)} molecules to {sdf_filename}\")"
   ]
  },
  {
   "cell_type": "code",
   "execution_count": 84,
   "id": "449bf5de",
   "metadata": {},
   "outputs": [],
   "source": [
    "# Define the electrophile (with the leaving group Br)\n",
    "electrophile_smiles = 'C#CC(Br)c1ccccc1'\n",
    "electrophile = Chem.MolFromSmiles(electrophile_smiles)\n",
    "\n",
    "# Define the nucleophile (amine group with an ether group)\n",
    "nucleophile_smiles = 'Nc1ccoc1'\n",
    "nucleophile = Chem.MolFromSmiles(nucleophile_smiles)\n",
    "\n",
    "# Define the SN2 reaction SMARTS pattern\n",
    "reaction_smarts = '[C:1]-Br.[N:2]>>[C:1]-[N:2]'\n",
    "\n",
    "# Create the reaction object from SMARTS\n",
    "reaction = AllChem.ReactionFromSmarts(reaction_smarts)\n",
    "\n",
    "# Perform the reaction\n",
    "reactants = [electrophile, nucleophile]\n",
    "product_sets = reaction.RunReactants(reactants)\n",
    "\n",
    "# Extract the products\n",
    "products = []\n",
    "for product_set in product_sets:\n",
    "    for product in product_set:\n",
    "        products.append(product)"
   ]
  },
  {
   "cell_type": "code",
   "execution_count": 10,
   "id": "0f527a8b",
   "metadata": {},
   "outputs": [
    {
     "name": "stdout",
     "output_type": "stream",
     "text": [
      "Products saved to products.sdf\n"
     ]
    }
   ],
   "source": [
    "# Define the reactants as SMILES\n",
    "substrate = Chem.MolFromSmiles(\"C#CC(Br)c1ccccc1\")  # 1-bromo-2-phenylprop-1-yne\n",
    "nucleophile = Chem.MolFromSmiles(\"Nc1ccoc1\")  # 2-aminofuran\n",
    "\n",
    "# Define the reaction using SMARTS\n",
    "reaction = AllChem.ReactionFromSmarts(\n",
    "    \"[C:1]([Br:2])=[C:3]#[C:4].[N:5]>>[C:1]([N:5])=[C:3]#[C:4].[Br-:2]\"\n",
    ")\n",
    "\n",
    "# Run the reaction\n",
    "products = reaction.RunReactants((substrate, nucleophile))\n",
    "\n",
    "# Save the products to an SDF file\n",
    "writer = Chem.SDWriter(\"products.sdf\")\n",
    "for prod_set in products:\n",
    "    for prod in prod_set:\n",
    "        writer.write(prod)\n",
    "writer.close()\n",
    "\n",
    "print(\"Products saved to products.sdf\")"
   ]
  },
  {
   "cell_type": "code",
   "execution_count": 6,
   "id": "4183c427",
   "metadata": {},
   "outputs": [
    {
     "name": "stdout",
     "output_type": "stream",
     "text": [
      "Se han generado 12 productos y se han guardado en el archivo productos.sdf.\n"
     ]
    }
   ],
   "source": [
    "# Definir los nucleófilos y electrófilos\n",
    "nucleofilos = [\n",
    "    Chem.MolFromSmiles(\"Nc1ccoc1\"),  # Nucleófilo con nitrógeno\n",
    "    Chem.MolFromSmiles(\"Oc1ccoc1\"),  # Nucleófilo con oxígeno\n",
    "    Chem.MolFromSmiles(\"Sc1cc[nH]c1\"),  # Nucleófilo con azufre\n",
    "    Chem.MolFromSmiles(\"Oc1cc[nH]c1\")  # Otro nucleófilo con oxígeno\n",
    "]\n",
    "\n",
    "electrofilos = [\n",
    "    Chem.MolFromSmiles(\"C#CC(Br)c1ccccc1\"),  # Electrónfilo 1\n",
    "    Chem.MolFromSmiles(\"C#CC(Br)C1CC1\"),     # Electrónfilo 2\n",
    "    Chem.MolFromSmiles(\"C#CC(Br)C1CCCC1\")    # Electrónfilo 3\n",
    "]\n",
    "\n",
    "# Definir la reacción de sustitución nucleofílica\n",
    "reaction = AllChem.ReactionFromSmarts(\"[C:1][Br].[N,O,S:2]>>[C:1][*:2]\")\n",
    "\n",
    "# Crear una lista para almacenar los productos\n",
    "productos = []\n",
    "\n",
    "# Iterar sobre los nucleófilos y electrófilos\n",
    "for nucleofilo in nucleofilos:\n",
    "    for electrofilo in electrofilos:\n",
    "        # Ejecutar la reacción\n",
    "        productos_reaccion = reaction.RunReactants((electrofilo, nucleofilo))\n",
    "        for producto in productos_reaccion:\n",
    "            productos.append(producto[0])  # Agregar el producto a la lista\n",
    "\n",
    "# Guardar los productos en un archivo SDF\n",
    "output_file = \"productos.sdf\"\n",
    "writer = SDWriter(output_file)\n",
    "\n",
    "for producto in productos:\n",
    "    Chem.SanitizeMol(producto)  # Asegurarse de que la molécula sea válida\n",
    "    writer.write(producto)\n",
    "\n",
    "writer.close()\n",
    "print(f\"Se han generado {len(productos)} productos y se han guardado en el archivo {output_file}.\")"
   ]
  },
  {
   "cell_type": "code",
   "execution_count": 25,
   "id": "b7b198e7",
   "metadata": {},
   "outputs": [],
   "source": [
    "alkyne = Chem.MolFromSmiles(\"C#CC(c1ccccc1)N\")\n",
    "azide = Chem.MolFromSmiles(\"C1CCCC1C-[N-]-[N+]#N\")\n",
    "\n",
    "reaction = CuAAC(alkyne=alkyne, azide=azide)\n",
    "product = reaction.get_product()"
   ]
  },
  {
   "cell_type": "code",
   "execution_count": 10,
   "id": "474a9342",
   "metadata": {},
   "outputs": [],
   "source": [
    "supp1 = Chem.SDMolSupplier('productos.sdf')\n",
    "\n",
    "for mol in supp:\n",
    "    if mol is not None: mol.GetNumAtoms()  #Create a list of molecules\n",
    "\n",
    "alkynes = [x for x in supp]\n",
    "\n",
    "supp2 = Chem.SDMolSupplier('azides.sdf')\n",
    "for mol in supp2:\n",
    "    if mol is not None: mol.GetNumAtoms()\n",
    "\n",
    "azides = [x for x in supp2]"
   ]
  },
  {
   "cell_type": "code",
   "execution_count": 18,
   "id": "07be5a22",
   "metadata": {},
   "outputs": [
    {
     "name": "stdout",
     "output_type": "stream",
     "text": [
      "c1ccc(-c2cn(CC3CCCC3)nn2)cc1\n",
      "NC(c1ccccc1)c1cn(CC2CCCC2)nn1\n",
      "COCn1cc(-c2ccccc2)nn1\n",
      "COCn1cc(C(N)c2ccccc2)nn1\n"
     ]
    }
   ],
   "source": [
    "# Example lists of azides and alkynes (replace with your actual molecules)\n",
    "azides = [\n",
    "    Chem.MolFromSmiles(\"C1CCCC1C[N-]-[N+]#N\"),  # Example azide\n",
    "    Chem.MolFromSmiles(\"COC[N-]-[N+]#N\")           # Another azide\n",
    "]\n",
    "\n",
    "alkynes = [\n",
    "    Chem.MolFromSmiles(\"C#CC1=CC=CC=C1\"),          # Example alkyne\n",
    "    Chem.MolFromSmiles(\"C#CC(c1ccccc1)N\") # Another alkyne\n",
    "]\n",
    "\n",
    "\n",
    "# List to store the products\n",
    "Click_products = []\n",
    "\n",
    "# React all azides with all alkynes\n",
    "for azide in azides:\n",
    "    for alkyne in alkynes:\n",
    "        # Perform the CuAAC reaction\n",
    "        reaction = CuAAC(alkyne, azide)\n",
    "        product = reaction.get_product()\n",
    "        if product:  # Ensure the reaction was successful\n",
    "            Click_products.append(product)\n",
    "\n",
    "# Print the SMILES of the products\n",
    "for product in Click_products:\n",
    "    print(Chem.MolToSmiles(product))"
   ]
  },
  {
   "cell_type": "code",
   "execution_count": 3,
   "id": "3b4662af",
   "metadata": {},
   "outputs": [],
   "source": [
    "# Definir los nucleófilos y electrófilos\n",
    "nucleofilos = [\n",
    "    Chem.MolFromSmiles(\"Nc1ccoc1\"),  # Nucleófilo con nitrógeno\n",
    "    Chem.MolFromSmiles(\"Oc1ccoc1\"),  # Nucleófilo con oxígeno\n",
    "    Chem.MolFromSmiles(\"Oc1cc[nH]c1\")  # Otro nucleófilo con oxígeno\n",
    "]\n",
    "\n",
    "electrofilos = [\n",
    "    Chem.MolFromSmiles(\"C#CC(Br)c1ccccc1\"),  # Electrónfilo 1\n",
    "    Chem.MolFromSmiles(\"C#CC(Br)C1CC1\"),     # Electrónfilo 2\n",
    "    Chem.MolFromSmiles(\"C#CC(Br)C1CCCC1\")    # Electrónfilo 3\n",
    "]\n",
    "\n",
    "# Definir la reacción de sustitución nucleofílica\n",
    "reaction = AllChem.ReactionFromSmarts(\"[C:1][Br].[N,O,S:2]>>[C:1][*:2]\")\n",
    "\n",
    "# Crear una lista para almacenar los productos\n",
    "SN2 = []\n",
    "\n",
    "# Iterar sobre los nucleófilos y electrófilos\n",
    "for nucleofilo in nucleofilos:\n",
    "    for electrofilo in electrofilos:\n",
    "        # Ejecutar la reacción\n",
    "        productos_reaccion = reaction.RunReactants((electrofilo, nucleofilo))\n",
    "        for producto in productos_reaccion:\n",
    "            SN2.append(Chem.MolToSmiles(producto[0]))  # Agregar el producto a la lista\n"
   ]
  },
  {
   "cell_type": "code",
   "execution_count": 4,
   "id": "a7582664",
   "metadata": {},
   "outputs": [
    {
     "data": {
      "text/plain": [
       "[<rdkit.Chem.rdchem.Mol at 0x132f0d3c0>,\n",
       " <rdkit.Chem.rdchem.Mol at 0x132f0d430>,\n",
       " <rdkit.Chem.rdchem.Mol at 0x132f0d510>,\n",
       " <rdkit.Chem.rdchem.Mol at 0x132f0d580>,\n",
       " <rdkit.Chem.rdchem.Mol at 0x132f0d5f0>,\n",
       " <rdkit.Chem.rdchem.Mol at 0x132f0d660>,\n",
       " <rdkit.Chem.rdchem.Mol at 0x132f0d6d0>,\n",
       " <rdkit.Chem.rdchem.Mol at 0x132f0d740>,\n",
       " <rdkit.Chem.rdchem.Mol at 0x132f0d7b0>]"
      ]
     },
     "execution_count": 4,
     "metadata": {},
     "output_type": "execute_result"
    }
   ],
   "source": [
    "SN2_products = []\n",
    "\n",
    "for mol in SN2:\n",
    "    SN2_products.append(Chem.MolFromSmiles(mol))\n",
    "    \n",
    "SN2_products"
   ]
  },
  {
   "cell_type": "code",
   "execution_count": 5,
   "id": "a417c6d3",
   "metadata": {},
   "outputs": [],
   "source": [
    "azides = [Chem.MolFromSmiles(\"C1CCCC1C[N-]-[N+]#N\"),  # Example azide\n",
    "          Chem.MolFromSmiles(\"COC[N-]-[N+]#N\")           # Another azide\n",
    "]\n",
    "\n",
    "Click_prods = []\n",
    "\n",
    "for alkyne in SN2_products:\n",
    "    for azide in azides:\n",
    "        reaction = CuAAC(alkyne, azide)\n",
    "        product = reaction.get_product()\n",
    "        Click_prods.append(product)"
   ]
  },
  {
   "cell_type": "code",
   "execution_count": 2,
   "id": "e69ff35c",
   "metadata": {},
   "outputs": [
    {
     "data": {
      "text/plain": [
       "1377"
      ]
     },
     "execution_count": 2,
     "metadata": {},
     "output_type": "execute_result"
    }
   ],
   "source": [
    "suppl = Chem.SDMolSupplier('AsinexDNA-encoded libraries.sdf')\n",
    "for mol in suppl:\n",
    "    if mol is not None: mol.GetNumAtoms()\n",
    "        \n",
    "BB = [x for x in suppl]\n",
    "len(BB)"
   ]
  },
  {
   "cell_type": "code",
   "execution_count": 14,
   "id": "d99bd016",
   "metadata": {},
   "outputs": [
    {
     "data": {
      "text/html": [
       "<div>\n",
       "<style scoped>\n",
       "    .dataframe tbody tr th:only-of-type {\n",
       "        vertical-align: middle;\n",
       "    }\n",
       "\n",
       "    .dataframe tbody tr th {\n",
       "        vertical-align: top;\n",
       "    }\n",
       "\n",
       "    .dataframe thead th {\n",
       "        text-align: right;\n",
       "    }\n",
       "</style>\n",
       "<table border=\"1\" class=\"dataframe\">\n",
       "  <thead>\n",
       "    <tr style=\"text-align: right;\">\n",
       "      <th></th>\n",
       "      <th>0</th>\n",
       "    </tr>\n",
       "  </thead>\n",
       "  <tbody>\n",
       "    <tr>\n",
       "      <th>0</th>\n",
       "      <td>&lt;rdkit.Chem.rdchem.Mol object at 0x12f9124a0&gt;</td>\n",
       "    </tr>\n",
       "    <tr>\n",
       "      <th>1</th>\n",
       "      <td>&lt;rdkit.Chem.rdchem.Mol object at 0x12fa92d60&gt;</td>\n",
       "    </tr>\n",
       "    <tr>\n",
       "      <th>2</th>\n",
       "      <td>&lt;rdkit.Chem.rdchem.Mol object at 0x12fa92cf0&gt;</td>\n",
       "    </tr>\n",
       "    <tr>\n",
       "      <th>3</th>\n",
       "      <td>&lt;rdkit.Chem.rdchem.Mol object at 0x12fa92c80&gt;</td>\n",
       "    </tr>\n",
       "    <tr>\n",
       "      <th>4</th>\n",
       "      <td>&lt;rdkit.Chem.rdchem.Mol object at 0x12fa92dd0&gt;</td>\n",
       "    </tr>\n",
       "    <tr>\n",
       "      <th>...</th>\n",
       "      <td>...</td>\n",
       "    </tr>\n",
       "    <tr>\n",
       "      <th>1372</th>\n",
       "      <td>&lt;rdkit.Chem.rdchem.Mol object at 0x12facbdd0&gt;</td>\n",
       "    </tr>\n",
       "    <tr>\n",
       "      <th>1373</th>\n",
       "      <td>&lt;rdkit.Chem.rdchem.Mol object at 0x12facbe40&gt;</td>\n",
       "    </tr>\n",
       "    <tr>\n",
       "      <th>1374</th>\n",
       "      <td>&lt;rdkit.Chem.rdchem.Mol object at 0x12facbeb0&gt;</td>\n",
       "    </tr>\n",
       "    <tr>\n",
       "      <th>1375</th>\n",
       "      <td>&lt;rdkit.Chem.rdchem.Mol object at 0x12facbf20&gt;</td>\n",
       "    </tr>\n",
       "    <tr>\n",
       "      <th>1376</th>\n",
       "      <td>&lt;rdkit.Chem.rdchem.Mol object at 0x12facbf90&gt;</td>\n",
       "    </tr>\n",
       "  </tbody>\n",
       "</table>\n",
       "<p>1377 rows × 1 columns</p>\n",
       "</div>"
      ],
      "text/plain": [
       "                                                  0\n",
       "0     <rdkit.Chem.rdchem.Mol object at 0x12f9124a0>\n",
       "1     <rdkit.Chem.rdchem.Mol object at 0x12fa92d60>\n",
       "2     <rdkit.Chem.rdchem.Mol object at 0x12fa92cf0>\n",
       "3     <rdkit.Chem.rdchem.Mol object at 0x12fa92c80>\n",
       "4     <rdkit.Chem.rdchem.Mol object at 0x12fa92dd0>\n",
       "...                                             ...\n",
       "1372  <rdkit.Chem.rdchem.Mol object at 0x12facbdd0>\n",
       "1373  <rdkit.Chem.rdchem.Mol object at 0x12facbe40>\n",
       "1374  <rdkit.Chem.rdchem.Mol object at 0x12facbeb0>\n",
       "1375  <rdkit.Chem.rdchem.Mol object at 0x12facbf20>\n",
       "1376  <rdkit.Chem.rdchem.Mol object at 0x12facbf90>\n",
       "\n",
       "[1377 rows x 1 columns]"
      ]
     },
     "execution_count": 14,
     "metadata": {},
     "output_type": "execute_result"
    }
   ],
   "source": [
    "df = pd.DataFrame(BB)\n",
    "df"
   ]
  },
  {
   "cell_type": "code",
   "execution_count": 30,
   "id": "4aa162ad",
   "metadata": {},
   "outputs": [
    {
     "data": {
      "text/html": [
       "<div>\n",
       "<style scoped>\n",
       "    .dataframe tbody tr th:only-of-type {\n",
       "        vertical-align: middle;\n",
       "    }\n",
       "\n",
       "    .dataframe tbody tr th {\n",
       "        vertical-align: top;\n",
       "    }\n",
       "\n",
       "    .dataframe thead th {\n",
       "        text-align: right;\n",
       "    }\n",
       "</style>\n",
       "<table border=\"1\" class=\"dataframe\">\n",
       "  <thead>\n",
       "    <tr style=\"text-align: right;\">\n",
       "      <th></th>\n",
       "      <th>SMILES</th>\n",
       "    </tr>\n",
       "  </thead>\n",
       "  <tbody>\n",
       "    <tr>\n",
       "      <th>0</th>\n",
       "      <td>&lt;rdkit.Chem.rdchem.Mol object at 0x12f9124a0&gt;</td>\n",
       "    </tr>\n",
       "    <tr>\n",
       "      <th>1</th>\n",
       "      <td>&lt;rdkit.Chem.rdchem.Mol object at 0x12fa92d60&gt;</td>\n",
       "    </tr>\n",
       "    <tr>\n",
       "      <th>2</th>\n",
       "      <td>&lt;rdkit.Chem.rdchem.Mol object at 0x12fa92cf0&gt;</td>\n",
       "    </tr>\n",
       "    <tr>\n",
       "      <th>3</th>\n",
       "      <td>&lt;rdkit.Chem.rdchem.Mol object at 0x12fa92c80&gt;</td>\n",
       "    </tr>\n",
       "    <tr>\n",
       "      <th>4</th>\n",
       "      <td>&lt;rdkit.Chem.rdchem.Mol object at 0x12fa92dd0&gt;</td>\n",
       "    </tr>\n",
       "    <tr>\n",
       "      <th>...</th>\n",
       "      <td>...</td>\n",
       "    </tr>\n",
       "    <tr>\n",
       "      <th>1372</th>\n",
       "      <td>&lt;rdkit.Chem.rdchem.Mol object at 0x12facbdd0&gt;</td>\n",
       "    </tr>\n",
       "    <tr>\n",
       "      <th>1373</th>\n",
       "      <td>&lt;rdkit.Chem.rdchem.Mol object at 0x12facbe40&gt;</td>\n",
       "    </tr>\n",
       "    <tr>\n",
       "      <th>1374</th>\n",
       "      <td>&lt;rdkit.Chem.rdchem.Mol object at 0x12facbeb0&gt;</td>\n",
       "    </tr>\n",
       "    <tr>\n",
       "      <th>1375</th>\n",
       "      <td>&lt;rdkit.Chem.rdchem.Mol object at 0x12facbf20&gt;</td>\n",
       "    </tr>\n",
       "    <tr>\n",
       "      <th>1376</th>\n",
       "      <td>&lt;rdkit.Chem.rdchem.Mol object at 0x12facbf90&gt;</td>\n",
       "    </tr>\n",
       "  </tbody>\n",
       "</table>\n",
       "<p>1377 rows × 1 columns</p>\n",
       "</div>"
      ],
      "text/plain": [
       "                                             SMILES\n",
       "0     <rdkit.Chem.rdchem.Mol object at 0x12f9124a0>\n",
       "1     <rdkit.Chem.rdchem.Mol object at 0x12fa92d60>\n",
       "2     <rdkit.Chem.rdchem.Mol object at 0x12fa92cf0>\n",
       "3     <rdkit.Chem.rdchem.Mol object at 0x12fa92c80>\n",
       "4     <rdkit.Chem.rdchem.Mol object at 0x12fa92dd0>\n",
       "...                                             ...\n",
       "1372  <rdkit.Chem.rdchem.Mol object at 0x12facbdd0>\n",
       "1373  <rdkit.Chem.rdchem.Mol object at 0x12facbe40>\n",
       "1374  <rdkit.Chem.rdchem.Mol object at 0x12facbeb0>\n",
       "1375  <rdkit.Chem.rdchem.Mol object at 0x12facbf20>\n",
       "1376  <rdkit.Chem.rdchem.Mol object at 0x12facbf90>\n",
       "\n",
       "[1377 rows x 1 columns]"
      ]
     },
     "execution_count": 30,
     "metadata": {},
     "output_type": "execute_result"
    }
   ],
   "source": [
    "df.columns = ['SMILES']\n",
    "df"
   ]
  },
  {
   "cell_type": "code",
   "execution_count": 42,
   "id": "2cb00fbc",
   "metadata": {},
   "outputs": [],
   "source": [
    "sdf_filename = \"Combinatorial_Library.sdf\"\n",
    "with Chem.SDWriter(sdf_filename) as writer:\n",
    "    for mol in Click_products:\n",
    "        writer.write(mol)"
   ]
  },
  {
   "cell_type": "code",
   "execution_count": 34,
   "id": "e950626d",
   "metadata": {},
   "outputs": [],
   "source": [
    "df = pd.read_excel('BB_Tag.xlsx', sheet_name = 'Hoja1')"
   ]
  },
  {
   "cell_type": "code",
   "execution_count": 35,
   "id": "8ba8154c",
   "metadata": {},
   "outputs": [
    {
     "data": {
      "text/html": [
       "<div>\n",
       "<style scoped>\n",
       "    .dataframe tbody tr th:only-of-type {\n",
       "        vertical-align: middle;\n",
       "    }\n",
       "\n",
       "    .dataframe tbody tr th {\n",
       "        vertical-align: top;\n",
       "    }\n",
       "\n",
       "    .dataframe thead th {\n",
       "        text-align: right;\n",
       "    }\n",
       "</style>\n",
       "<table border=\"1\" class=\"dataframe\">\n",
       "  <thead>\n",
       "    <tr style=\"text-align: right;\">\n",
       "      <th></th>\n",
       "      <th>DNA-Tag</th>\n",
       "      <th>Unnamed: 1</th>\n",
       "      <th>SMILES</th>\n",
       "    </tr>\n",
       "  </thead>\n",
       "  <tbody>\n",
       "    <tr>\n",
       "      <th>0</th>\n",
       "      <td>GTTGGGGGTTG</td>\n",
       "      <td>NaN</td>\n",
       "      <td>C#CC(c1ccccc1)N</td>\n",
       "    </tr>\n",
       "    <tr>\n",
       "      <th>1</th>\n",
       "      <td>CATACGCATAC</td>\n",
       "      <td>NaN</td>\n",
       "      <td>C#CCC(c1ccccc1)N</td>\n",
       "    </tr>\n",
       "    <tr>\n",
       "      <th>2</th>\n",
       "      <td>ATTAGGGATTA</td>\n",
       "      <td>NaN</td>\n",
       "      <td>OC(c1cc(Oc2ccccc2)ccc1)=O</td>\n",
       "    </tr>\n",
       "    <tr>\n",
       "      <th>3</th>\n",
       "      <td>GTGCCCCCGTG</td>\n",
       "      <td>NaN</td>\n",
       "      <td>OC(CC(CC1)CCC1C(F)(F)F)=O</td>\n",
       "    </tr>\n",
       "    <tr>\n",
       "      <th>4</th>\n",
       "      <td>GACCTGTCCAG</td>\n",
       "      <td>NaN</td>\n",
       "      <td>OC(C(CC1)CN1c1ccccc1)=O</td>\n",
       "    </tr>\n",
       "    <tr>\n",
       "      <th>5</th>\n",
       "      <td>TAAAACAAAAT</td>\n",
       "      <td>NaN</td>\n",
       "      <td>C1CCCC1C[N-]-[N+]#N</td>\n",
       "    </tr>\n",
       "    <tr>\n",
       "      <th>6</th>\n",
       "      <td>TTATGAGTATT</td>\n",
       "      <td>NaN</td>\n",
       "      <td>c1ccccc1C[N-]-[N+]#N</td>\n",
       "    </tr>\n",
       "    <tr>\n",
       "      <th>7</th>\n",
       "      <td>ACTCCTCCTCA</td>\n",
       "      <td>NaN</td>\n",
       "      <td>C1CCCCCC1C[N-]-[N+]#N</td>\n",
       "    </tr>\n",
       "    <tr>\n",
       "      <th>8</th>\n",
       "      <td>NaN</td>\n",
       "      <td>NaN</td>\n",
       "      <td>O=C(O)C2CCCN(c1ccccc1)C2</td>\n",
       "    </tr>\n",
       "    <tr>\n",
       "      <th>9</th>\n",
       "      <td>NaN</td>\n",
       "      <td>NaN</td>\n",
       "      <td>CC(=O)C3Nc1c(C)c(C)ccc1C2C=C(N=[N+]=N)CC23</td>\n",
       "    </tr>\n",
       "  </tbody>\n",
       "</table>\n",
       "</div>"
      ],
      "text/plain": [
       "       DNA-Tag  Unnamed: 1                                      SMILES\n",
       "0  GTTGGGGGTTG         NaN                             C#CC(c1ccccc1)N\n",
       "1  CATACGCATAC         NaN                            C#CCC(c1ccccc1)N\n",
       "2  ATTAGGGATTA         NaN                   OC(c1cc(Oc2ccccc2)ccc1)=O\n",
       "3  GTGCCCCCGTG         NaN                   OC(CC(CC1)CCC1C(F)(F)F)=O\n",
       "4  GACCTGTCCAG         NaN                     OC(C(CC1)CN1c1ccccc1)=O\n",
       "5  TAAAACAAAAT         NaN                         C1CCCC1C[N-]-[N+]#N\n",
       "6  TTATGAGTATT         NaN                        c1ccccc1C[N-]-[N+]#N\n",
       "7  ACTCCTCCTCA         NaN                       C1CCCCCC1C[N-]-[N+]#N\n",
       "8          NaN         NaN                    O=C(O)C2CCCN(c1ccccc1)C2\n",
       "9          NaN         NaN  CC(=O)C3Nc1c(C)c(C)ccc1C2C=C(N=[N+]=N)CC23"
      ]
     },
     "execution_count": 35,
     "metadata": {},
     "output_type": "execute_result"
    }
   ],
   "source": [
    "df"
   ]
  },
  {
   "cell_type": "code",
   "execution_count": 36,
   "id": "354672c6",
   "metadata": {},
   "outputs": [
    {
     "data": {
      "text/plain": [
       "Index(['DNA-Tag', 'Unnamed: 1', 'SMILES'], dtype='object')"
      ]
     },
     "execution_count": 36,
     "metadata": {},
     "output_type": "execute_result"
    }
   ],
   "source": [
    "df.columns"
   ]
  },
  {
   "cell_type": "code",
   "execution_count": 37,
   "id": "07c220b0",
   "metadata": {},
   "outputs": [],
   "source": [
    "new_df = df.drop('Unnamed: 1', axis = 1)"
   ]
  },
  {
   "cell_type": "code",
   "execution_count": 38,
   "id": "3f042eec",
   "metadata": {},
   "outputs": [
    {
     "data": {
      "text/html": [
       "<div>\n",
       "<style scoped>\n",
       "    .dataframe tbody tr th:only-of-type {\n",
       "        vertical-align: middle;\n",
       "    }\n",
       "\n",
       "    .dataframe tbody tr th {\n",
       "        vertical-align: top;\n",
       "    }\n",
       "\n",
       "    .dataframe thead th {\n",
       "        text-align: right;\n",
       "    }\n",
       "</style>\n",
       "<table border=\"1\" class=\"dataframe\">\n",
       "  <thead>\n",
       "    <tr style=\"text-align: right;\">\n",
       "      <th></th>\n",
       "      <th>DNA-Tag</th>\n",
       "      <th>SMILES</th>\n",
       "    </tr>\n",
       "  </thead>\n",
       "  <tbody>\n",
       "    <tr>\n",
       "      <th>0</th>\n",
       "      <td>GTTGGGGGTTG</td>\n",
       "      <td>C#CC(c1ccccc1)N</td>\n",
       "    </tr>\n",
       "    <tr>\n",
       "      <th>1</th>\n",
       "      <td>CATACGCATAC</td>\n",
       "      <td>C#CCC(c1ccccc1)N</td>\n",
       "    </tr>\n",
       "    <tr>\n",
       "      <th>2</th>\n",
       "      <td>ATTAGGGATTA</td>\n",
       "      <td>OC(c1cc(Oc2ccccc2)ccc1)=O</td>\n",
       "    </tr>\n",
       "    <tr>\n",
       "      <th>3</th>\n",
       "      <td>GTGCCCCCGTG</td>\n",
       "      <td>OC(CC(CC1)CCC1C(F)(F)F)=O</td>\n",
       "    </tr>\n",
       "    <tr>\n",
       "      <th>4</th>\n",
       "      <td>GACCTGTCCAG</td>\n",
       "      <td>OC(C(CC1)CN1c1ccccc1)=O</td>\n",
       "    </tr>\n",
       "    <tr>\n",
       "      <th>5</th>\n",
       "      <td>TAAAACAAAAT</td>\n",
       "      <td>C1CCCC1C[N-]-[N+]#N</td>\n",
       "    </tr>\n",
       "    <tr>\n",
       "      <th>6</th>\n",
       "      <td>TTATGAGTATT</td>\n",
       "      <td>c1ccccc1C[N-]-[N+]#N</td>\n",
       "    </tr>\n",
       "    <tr>\n",
       "      <th>7</th>\n",
       "      <td>ACTCCTCCTCA</td>\n",
       "      <td>C1CCCCCC1C[N-]-[N+]#N</td>\n",
       "    </tr>\n",
       "    <tr>\n",
       "      <th>8</th>\n",
       "      <td>NaN</td>\n",
       "      <td>O=C(O)C2CCCN(c1ccccc1)C2</td>\n",
       "    </tr>\n",
       "    <tr>\n",
       "      <th>9</th>\n",
       "      <td>NaN</td>\n",
       "      <td>CC(=O)C3Nc1c(C)c(C)ccc1C2C=C(N=[N+]=N)CC23</td>\n",
       "    </tr>\n",
       "  </tbody>\n",
       "</table>\n",
       "</div>"
      ],
      "text/plain": [
       "       DNA-Tag                                      SMILES\n",
       "0  GTTGGGGGTTG                             C#CC(c1ccccc1)N\n",
       "1  CATACGCATAC                            C#CCC(c1ccccc1)N\n",
       "2  ATTAGGGATTA                   OC(c1cc(Oc2ccccc2)ccc1)=O\n",
       "3  GTGCCCCCGTG                   OC(CC(CC1)CCC1C(F)(F)F)=O\n",
       "4  GACCTGTCCAG                     OC(C(CC1)CN1c1ccccc1)=O\n",
       "5  TAAAACAAAAT                         C1CCCC1C[N-]-[N+]#N\n",
       "6  TTATGAGTATT                        c1ccccc1C[N-]-[N+]#N\n",
       "7  ACTCCTCCTCA                       C1CCCCCC1C[N-]-[N+]#N\n",
       "8          NaN                    O=C(O)C2CCCN(c1ccccc1)C2\n",
       "9          NaN  CC(=O)C3Nc1c(C)c(C)ccc1C2C=C(N=[N+]=N)CC23"
      ]
     },
     "execution_count": 38,
     "metadata": {},
     "output_type": "execute_result"
    }
   ],
   "source": [
    "new_df"
   ]
  },
  {
   "cell_type": "code",
   "execution_count": 41,
   "id": "f1c99394",
   "metadata": {},
   "outputs": [],
   "source": [
    "Azide_Tags = list(new_df[\"DNA-Tag\"][0:3])\n",
    "Alkyne_Tags = list(new_df[\"DNA-Tag\"][3:6])\n",
    "Carboxy_Tags = list(new_df[\"DNA-Tag\"][6:7])"
   ]
  },
  {
   "cell_type": "code",
   "execution_count": 42,
   "id": "d45d6a9b",
   "metadata": {},
   "outputs": [
    {
     "data": {
      "text/plain": [
       "{'GTTGGGGGTTG': 'C#CC(c1ccccc1)N',\n",
       " 'CATACGCATAC': 'C#CCC(c1ccccc1)N',\n",
       " 'ATTAGGGATTA': 'OC(c1cc(Oc2ccccc2)ccc1)=O',\n",
       " 'GTGCCCCCGTG': 'OC(CC(CC1)CCC1C(F)(F)F)=O',\n",
       " 'GACCTGTCCAG': 'OC(C(CC1)CN1c1ccccc1)=O',\n",
       " 'TAAAACAAAAT': 'C1CCCC1C[N-]-[N+]#N',\n",
       " 'TTATGAGTATT': 'c1ccccc1C[N-]-[N+]#N',\n",
       " 'ACTCCTCCTCA': 'C1CCCCCC1C[N-]-[N+]#N',\n",
       " nan: 'CC(=O)C3Nc1c(C)c(C)ccc1C2C=C(N=[N+]=N)CC23'}"
      ]
     },
     "execution_count": 42,
     "metadata": {},
     "output_type": "execute_result"
    }
   ],
   "source": [
    "DNA_tag = new_df['DNA-Tag']\n",
    "SMILES = new_df['SMILES']\n",
    "\n",
    "data_base = {}\n",
    "\n",
    "for key, value in zip(DNA_tag, SMILES):\n",
    "    data_base[key] = value\n",
    "    \n",
    "data_base"
   ]
  },
  {
   "cell_type": "code",
   "execution_count": 45,
   "id": "a2aa7daf",
   "metadata": {},
   "outputs": [],
   "source": [
    "def classify_molecules(df):\n",
    "    azide_smarts = '[N-][N+]#[N]'\n",
    "    carboxylic_acid_smarts = 'C(=O)[OH]'\n",
    "    alkyne_smarts = 'C#C'\n",
    "    \n",
    "    azide_pat = Chem.MolFromSmarts(azide_smarts)\n",
    "    carboxylic_acid_pat = Chem.MolFromSmarts(carboxylic_acid_smarts)\n",
    "    alkyne_pat = Chem.MolFromSmarts(alkyne_smarts)\n",
    "    \n",
    "    azides = []\n",
    "    carboxylic_acids = []\n",
    "    alkynes = []\n",
    "    \n",
    "    for smiles in new_df['SMILES']:\n",
    "        mol = Chem.MolFromSmiles(smiles)\n",
    "        if mol:\n",
    "            if mol.HasSubstructMatch(azide_pat):\n",
    "                azides.append(Chem.MolFromSmiles(smiles))\n",
    "            if mol.HasSubstructMatch(carboxylic_acid_pat):\n",
    "                carboxylic_acids.append(Chem.MolFromSmiles(smiles))\n",
    "            if mol.HasSubstructMatch(alkyne_pat):\n",
    "                alkynes.append(Chem.MolFromSmiles(smiles))\n",
    "    \n",
    "    return azides, carboxylic_acids, alkynes"
   ]
  },
  {
   "cell_type": "code",
   "execution_count": 46,
   "id": "dca42c51",
   "metadata": {},
   "outputs": [
    {
     "name": "stdout",
     "output_type": "stream",
     "text": [
      "Azides: [<rdkit.Chem.rdchem.Mol object at 0x1321aa120>, <rdkit.Chem.rdchem.Mol object at 0x1321aa270>, <rdkit.Chem.rdchem.Mol object at 0x1321aa040>]\n",
      "Carboxylic Acids: [<rdkit.Chem.rdchem.Mol object at 0x1300cc900>, <rdkit.Chem.rdchem.Mol object at 0x1300cc820>, <rdkit.Chem.rdchem.Mol object at 0x1321aa190>, <rdkit.Chem.rdchem.Mol object at 0x1321aa200>]\n",
      "Alkynes: [<rdkit.Chem.rdchem.Mol object at 0x1300ccac0>, <rdkit.Chem.rdchem.Mol object at 0x1300cca50>]\n"
     ]
    }
   ],
   "source": [
    "azides, carboxylic_acids, alkynes = classify_molecules(suppl)\n",
    "\n",
    "print(\"Azides:\", azides)\n",
    "print(\"Carboxylic Acids:\", carboxylic_acids)\n",
    "print(\"Alkynes:\", alkynes)"
   ]
  },
  {
   "cell_type": "code",
   "execution_count": 47,
   "id": "ae5f9562",
   "metadata": {},
   "outputs": [
    {
     "name": "stdout",
     "output_type": "stream",
     "text": [
      "azides {'GTTGGGGGTTG': <rdkit.Chem.rdchem.Mol object at 0x1321aa120>, 'CATACGCATAC': <rdkit.Chem.rdchem.Mol object at 0x1321aa270>, 'ATTAGGGATTA': <rdkit.Chem.rdchem.Mol object at 0x1321aa040>}\n",
      "Alkynes {'GTGCCCCCGTG': <rdkit.Chem.rdchem.Mol object at 0x1300ccac0>, 'GACCTGTCCAG': <rdkit.Chem.rdchem.Mol object at 0x1300cca50>}\n",
      "Carbox {'TTATGAGTATT': <rdkit.Chem.rdchem.Mol object at 0x1300cc900>}\n"
     ]
    }
   ],
   "source": [
    "#DNA_tag = new_df['DNA-Tag']\n",
    "#SMILES = new_df['SMILES']\n",
    "\n",
    "azides_dict = {}\n",
    "alkynes_dict ={}\n",
    "Carboxylic_dict = {}\n",
    "\n",
    "for key, value in zip(Azide_Tags, azides):\n",
    "    azides_dict[key] = value\n",
    "    \n",
    "for key, value in zip(Alkyne_Tags, alkynes):\n",
    "    alkynes_dict[key] = value\n",
    "    \n",
    "for key, value in zip(Carboxy_Tags, carboxylic_acids):\n",
    "    Carboxylic_dict[key] = value\n",
    "    \n",
    "print(\"azides\", azides_dict)\n",
    "print(\"Alkynes\", alkynes_dict)\n",
    "print(\"Carbox\", Carboxylic_dict)"
   ]
  },
  {
   "cell_type": "code",
   "execution_count": 48,
   "id": "7e7e6628",
   "metadata": {},
   "outputs": [],
   "source": [
    "first_rxn_prods = [] \n",
    "\n",
    "for azide in azides_dict.values():\n",
    "    for alkyne in alkynes_dict.values():\n",
    "        reaction = CuAAC(alkyne, azide)\n",
    "        product = reaction.get_product()\n",
    "        first_rxn_prods.append(product)"
   ]
  },
  {
   "cell_type": "code",
   "execution_count": 49,
   "id": "7e8f59b9",
   "metadata": {},
   "outputs": [
    {
     "data": {
      "text/plain": [
       "['GTTGGGGGTTGGTGCCCCCGTG',\n",
       " 'GTTGGGGGTTGGACCTGTCCAG',\n",
       " 'CATACGCATACGTGCCCCCGTG',\n",
       " 'CATACGCATACGACCTGTCCAG',\n",
       " 'ATTAGGGATTAGTGCCCCCGTG',\n",
       " 'ATTAGGGATTAGACCTGTCCAG']"
      ]
     },
     "execution_count": 49,
     "metadata": {},
     "output_type": "execute_result"
    }
   ],
   "source": [
    "first_rxn_tags = []\n",
    "\n",
    "for i in azides_dict.keys():\n",
    "    for j in alkynes_dict.keys():\n",
    "        first_rxn_tags.append(i + j)\n",
    "\n",
    "\n",
    "first_rxn_tags"
   ]
  },
  {
   "cell_type": "code",
   "execution_count": 50,
   "id": "d766ffa9",
   "metadata": {},
   "outputs": [
    {
     "data": {
      "text/plain": [
       "{'GTTGGGGGTTGGTGCCCCCGTG': <rdkit.Chem.rdchem.Mol at 0x1300cc970>,\n",
       " 'GTTGGGGGTTGGACCTGTCCAG': <rdkit.Chem.rdchem.Mol at 0x1321aa350>,\n",
       " 'CATACGCATACGTGCCCCCGTG': <rdkit.Chem.rdchem.Mol at 0x1321aa3c0>,\n",
       " 'CATACGCATACGACCTGTCCAG': <rdkit.Chem.rdchem.Mol at 0x1321aaba0>,\n",
       " 'ATTAGGGATTAGTGCCCCCGTG': <rdkit.Chem.rdchem.Mol at 0x1321aaa50>,\n",
       " 'ATTAGGGATTAGACCTGTCCAG': <rdkit.Chem.rdchem.Mol at 0x1321aac10>}"
      ]
     },
     "execution_count": 50,
     "metadata": {},
     "output_type": "execute_result"
    }
   ],
   "source": [
    "first_rxn_products = {}\n",
    "\n",
    "for key, value in zip(first_rxn_tags, first_rxn_prods):\n",
    "    first_rxn_products[key] = value\n",
    "    \n",
    "first_rxn_products"
   ]
  },
  {
   "cell_type": "code",
   "execution_count": 22,
   "id": "a316332d",
   "metadata": {},
   "outputs": [],
   "source": [
    "comps = list(first_rxn_products.values())\n",
    "\n",
    "df = pd.DataFrame(comps)"
   ]
  },
  {
   "cell_type": "code",
   "execution_count": 42,
   "id": "a082aec8",
   "metadata": {},
   "outputs": [
    {
     "name": "stdout",
     "output_type": "stream",
     "text": [
      "[1, 1, 0, 0, 0, 0, 1, 0, 1, 1, 0, 0, 0, 1, 0, 1, 0, 0, 0, 0, 1, 1, 1, 0, 0, 0, 0, 0, 1, 0, 0, 0, 0, 1, 0, 0, 1, 0, 0, 1, 0, 0, 1, 0, 1, 0, 0, 1, 0, 0, 1, 0, 0, 0, 0, 0, 1, 0, 0, 0, 0, 0, 1, 0, 0, 0, 0, 0, 0, 1, 1, 0, 1, 0, 0, 0, 0, 1, 0, 0, 0, 0, 1, 0, 1, 1, 0, 1, 0, 0, 1, 1, 0, 0, 1, 0, 1, 0, 0, 0]\n"
     ]
    },
    {
     "name": "stderr",
     "output_type": "stream",
     "text": [
      "[13:43:55] DEPRECATION WARNING: please use MorganGenerator\n",
      "[13:43:55] DEPRECATION WARNING: please use MorganGenerator\n",
      "[13:43:55] DEPRECATION WARNING: please use MorganGenerator\n",
      "[13:43:55] DEPRECATION WARNING: please use MorganGenerator\n",
      "[13:43:55] DEPRECATION WARNING: please use MorganGenerator\n",
      "[13:43:55] DEPRECATION WARNING: please use MorganGenerator\n"
     ]
    }
   ],
   "source": [
    "smiles_list = [\"CCO\", \"CCN\", \"CCC\", \"CCCl\"]\n",
    "\n",
    "# Convert SMILES to RDKit Mol objects\n",
    "molecules = [Chem.MolFromSmiles(smiles) for smiles in smiles_list]\n",
    "\n",
    "# Generate Morgan fingerprints (ECFP4-like)\n",
    "fingerprints = [AllChem.GetMorganFingerprintAsBitVect(mol, radius=2, nBits=100) for mol in comps]\n",
    "\n",
    "# Print the first fingerprint as a list\n",
    "print(list(fingerprints[0]))"
   ]
  },
  {
   "cell_type": "code",
   "execution_count": 39,
   "id": "a8ff66dc",
   "metadata": {},
   "outputs": [],
   "source": [
    "tani1 = fingerprints[1]\n",
    "tani2 = fingerprints[2]"
   ]
  },
  {
   "cell_type": "code",
   "execution_count": 40,
   "id": "e613f78b",
   "metadata": {},
   "outputs": [
    {
     "name": "stdout",
     "output_type": "stream",
     "text": [
      "Tanimoto Similarity: 0.37254901960784315\n"
     ]
    }
   ],
   "source": [
    "tanimoto = DataStructs.TanimotoSimilarity(tani1, tani2)\n",
    "print(f\"Tanimoto Similarity: {tanimoto}\")"
   ]
  },
  {
   "cell_type": "code",
   "execution_count": 46,
   "id": "5f942e70",
   "metadata": {},
   "outputs": [
    {
     "name": "stdout",
     "output_type": "stream",
     "text": [
      "[[1.         0.66666667 0.60465116 0.37254902 0.97368421 0.65217391]\n",
      " [0.66666667 1.         0.37254902 0.61363636 0.65217391 0.97435897]\n",
      " [0.60465116 0.37254902 1.         0.625      0.59090909 0.36538462]\n",
      " [0.37254902 0.61363636 0.625      1.         0.36538462 0.6       ]\n",
      " [0.97368421 0.65217391 0.59090909 0.36538462 1.         0.67391304]\n",
      " [0.65217391 0.97435897 0.36538462 0.6        0.67391304 1.        ]]\n"
     ]
    },
    {
     "name": "stderr",
     "output_type": "stream",
     "text": [
      "[14:01:24] DEPRECATION WARNING: please use MorganGenerator\n",
      "[14:01:24] DEPRECATION WARNING: please use MorganGenerator\n",
      "[14:01:24] DEPRECATION WARNING: please use MorganGenerator\n",
      "[14:01:24] DEPRECATION WARNING: please use MorganGenerator\n",
      "[14:01:24] DEPRECATION WARNING: please use MorganGenerator\n",
      "[14:01:24] DEPRECATION WARNING: please use MorganGenerator\n"
     ]
    }
   ],
   "source": [
    "# List of molecules in SMILES format\n",
    "smiles_list = [\"CCO\", \"CCN\", \"CCC\", \"CCCl\"]\n",
    "\n",
    "# Convert SMILES to RDKit Mol objects\n",
    "molecules = [Chem.MolFromSmiles(smiles) for smiles in smiles_list]\n",
    "\n",
    "# Generate Morgan fingerprints\n",
    "fingerprints = [AllChem.GetMorganFingerprintAsBitVect(mol, radius=2, nBits=1024) for mol in comps]\n",
    "\n",
    "# Compute pairwise Tanimoto similarity matrix\n",
    "num_molecules = len(fingerprints)\n",
    "tanimoto_matrix = np.zeros((num_molecules, num_molecules))\n",
    "\n",
    "for i in range(num_molecules):\n",
    "    for j in range(i, num_molecules):  # Only compute upper triangle (symmetric)\n",
    "        sim = DataStructs.TanimotoSimilarity(fingerprints[i], fingerprints[j])\n",
    "        tanimoto_matrix[i, j] = sim\n",
    "        tanimoto_matrix[j, i] = sim  # Fill both halves\n",
    "\n",
    "# Print the Tanimoto similarity matrix\n",
    "print(tanimoto_matrix)"
   ]
  },
  {
   "cell_type": "code",
   "execution_count": 47,
   "id": "736bb0d2",
   "metadata": {},
   "outputs": [],
   "source": [
    "import seaborn as sns\n",
    "import matplotlib.pyplot as plt"
   ]
  },
  {
   "cell_type": "code",
   "execution_count": 51,
   "id": "0c0dcade",
   "metadata": {},
   "outputs": [],
   "source": [
    "from scipy.cluster.hierarchy import linkage, dendrogram"
   ]
  },
  {
   "cell_type": "code",
   "execution_count": 53,
   "id": "02d18ea9",
   "metadata": {},
   "outputs": [],
   "source": [
    "from scipy.spatial.distance import squareform"
   ]
  },
  {
   "cell_type": "code",
   "execution_count": 50,
   "id": "374ba11f",
   "metadata": {},
   "outputs": [
    {
     "data": {
      "image/png": "[encoded data removed]",
      "text/plain": [
       "<Figure size 1100x1000 with 2 Axes>"
      ]
     },
     "metadata": {},
     "output_type": "display_data"
    }
   ],
   "source": [
    "plt.figure(figsize=(11, 10))\n",
    "sns.heatmap(tanimoto_matrix, annot=True, cmap=\"coolwarm\", xticklabels=new_df['SMILES'], yticklabels=new_df['SMILES'])\n",
    "\n",
    "# Customize labels\n",
    "plt.title(\"Tanimoto Similarity Heatmap\")\n",
    "plt.xlabel(\"Molecules\")\n",
    "plt.ylabel(\"Molecules\")\n",
    "plt.show()"
   ]
  },
  {
   "cell_type": "code",
   "execution_count": 55,
   "id": "fdcecde8",
   "metadata": {},
   "outputs": [
    {
     "ename": "ValueError",
     "evalue": "Dimensions of Z and labels must be consistent.",
     "output_type": "error",
     "traceback": [
      "\u001b[0;31m---------------------------------------------------------------------------\u001b[0m",
      "\u001b[0;31mValueError\u001b[0m                                Traceback (most recent call last)",
      "Cell \u001b[0;32mIn[55], line 12\u001b[0m\n\u001b[1;32m     10\u001b[0m \u001b[38;5;66;03m# Plot dendrogram\u001b[39;00m\n\u001b[1;32m     11\u001b[0m plt\u001b[38;5;241m.\u001b[39mfigure(figsize\u001b[38;5;241m=\u001b[39m(\u001b[38;5;241m8\u001b[39m, \u001b[38;5;241m5\u001b[39m))\n\u001b[0;32m---> 12\u001b[0m \u001b[43mdendrogram\u001b[49m\u001b[43m(\u001b[49m\u001b[43mlinkage_matrix\u001b[49m\u001b[43m,\u001b[49m\u001b[43m \u001b[49m\u001b[43mlabels\u001b[49m\u001b[38;5;241;43m=\u001b[39;49m\u001b[43msmiles_list\u001b[49m\u001b[43m,\u001b[49m\u001b[43m \u001b[49m\u001b[43mleaf_rotation\u001b[49m\u001b[38;5;241;43m=\u001b[39;49m\u001b[38;5;241;43m90\u001b[39;49m\u001b[43m,\u001b[49m\u001b[43m \u001b[49m\u001b[43mleaf_font_size\u001b[49m\u001b[38;5;241;43m=\u001b[39;49m\u001b[38;5;241;43m10\u001b[39;49m\u001b[43m,\u001b[49m\u001b[43m \u001b[49m\u001b[43mcolor_threshold\u001b[49m\u001b[38;5;241;43m=\u001b[39;49m\u001b[38;5;241;43m0.5\u001b[39;49m\u001b[43m)\u001b[49m\n\u001b[1;32m     13\u001b[0m plt\u001b[38;5;241m.\u001b[39mtitle(\u001b[38;5;124m\"\u001b[39m\u001b[38;5;124mHierarchical Clustering of Molecules\u001b[39m\u001b[38;5;124m\"\u001b[39m)\n\u001b[1;32m     14\u001b[0m plt\u001b[38;5;241m.\u001b[39mxlabel(\u001b[38;5;124m\"\u001b[39m\u001b[38;5;124mMolecules (SMILES)\u001b[39m\u001b[38;5;124m\"\u001b[39m)\n",
      "File \u001b[0;32m~/miniforge3/envs/my_first_env/lib/python3.9/site-packages/scipy/cluster/hierarchy.py:3284\u001b[0m, in \u001b[0;36mdendrogram\u001b[0;34m(Z, p, truncate_mode, color_threshold, get_leaves, orientation, labels, count_sort, distance_sort, show_leaf_counts, no_plot, no_labels, leaf_font_size, leaf_rotation, leaf_label_func, show_contracted, link_color_func, ax, above_threshold_color)\u001b[0m\n\u001b[1;32m   3282\u001b[0m         len_labels \u001b[38;5;241m=\u001b[39m labels\u001b[38;5;241m.\u001b[39mshape[\u001b[38;5;241m0\u001b[39m]\n\u001b[1;32m   3283\u001b[0m     \u001b[38;5;28;01mif\u001b[39;00m Z\u001b[38;5;241m.\u001b[39mshape[\u001b[38;5;241m0\u001b[39m] \u001b[38;5;241m+\u001b[39m \u001b[38;5;241m1\u001b[39m \u001b[38;5;241m!=\u001b[39m len_labels:\n\u001b[0;32m-> 3284\u001b[0m         \u001b[38;5;28;01mraise\u001b[39;00m \u001b[38;5;167;01mValueError\u001b[39;00m(\u001b[38;5;124m\"\u001b[39m\u001b[38;5;124mDimensions of Z and labels must be consistent.\u001b[39m\u001b[38;5;124m\"\u001b[39m)\n\u001b[1;32m   3286\u001b[0m is_valid_linkage(Z, throw\u001b[38;5;241m=\u001b[39m\u001b[38;5;28;01mTrue\u001b[39;00m, name\u001b[38;5;241m=\u001b[39m\u001b[38;5;124m'\u001b[39m\u001b[38;5;124mZ\u001b[39m\u001b[38;5;124m'\u001b[39m)\n\u001b[1;32m   3287\u001b[0m Zs \u001b[38;5;241m=\u001b[39m Z\u001b[38;5;241m.\u001b[39mshape\n",
      "\u001b[0;31mValueError\u001b[0m: Dimensions of Z and labels must be consistent."
     ]
    },
    {
     "data": {
      "text/plain": [
       "<Figure size 800x500 with 0 Axes>"
      ]
     },
     "metadata": {},
     "output_type": "display_data"
    }
   ],
   "source": [
    "# Convert similarity to distance (1 - similarity)\n",
    "distance_matrix = 1 - tanimoto_matrix\n",
    "\n",
    "# Convert square distance matrix to condensed form\n",
    "condensed_distances = squareform(distance_matrix)\n",
    "\n",
    "# Perform hierarchical clustering\n",
    "linkage_matrix = linkage(condensed_distances, method=\"ward\")\n",
    "\n",
    "# Plot dendrogram\n",
    "plt.figure(figsize=(8, 5))\n",
    "dendrogram(linkage_matrix, labels=smiles_list, leaf_rotation=90, leaf_font_size=10, color_threshold=0.5)\n",
    "plt.title(\"Hierarchical Clustering of Molecules\")\n",
    "plt.xlabel(\"Molecules (SMILES)\")\n",
    "plt.ylabel(\"Distance (1 - Tanimoto)\")\n",
    "plt.show()"
   ]
  },
  {
   "cell_type": "code",
   "execution_count": 2,
   "id": "599e16e2",
   "metadata": {},
   "outputs": [
    {
     "name": "stdout",
     "output_type": "stream",
     "text": [
      "Product SMILES: CCNC(C)=O\n"
     ]
    }
   ],
   "source": [
    "# Define the reaction SMARTS pattern\n",
    "amide_coupling = AllChem.ReactionFromSmarts(\n",
    "    \"[C:1](=[O:2])O.[N:3]>>[C:1](=[O:2])[N:3]\"\n",
    ")\n",
    "\n",
    "# Define reactants: Carboxylic acid and Amine\n",
    "carboxylic_acid = Chem.MolFromSmiles(\"CC(=O)O\")  # Acetic acid\n",
    "amine = Chem.MolFromSmiles(\"NCC\")  # Ethylamine\n",
    "\n",
    "# Run the reaction\n",
    "products = amide_coupling.RunReactants((carboxylic_acid, amine))\n",
    "\n",
    "# Print results\n",
    "if products:\n",
    "    for product_set in products:\n",
    "        for product in product_set:\n",
    "            print(\"Product SMILES:\", Chem.MolToSmiles(product))\n",
    "else:\n",
    "    print(\"No products were generated.\")"
   ]
  },
  {
   "cell_type": "code",
   "execution_count": 4,
   "id": "f6bf6d06",
   "metadata": {},
   "outputs": [
    {
     "data": {
      "image/png": "[encoded data removed]",
      "text/plain": [
       "<rdkit.Chem.rdchem.Mol at 0x12fac34a0>"
      ]
     },
     "execution_count": 4,
     "metadata": {},
     "output_type": "execute_result"
    }
   ],
   "source": [
    "product"
   ]
  },
  {
   "cell_type": "code",
   "execution_count": null,
   "id": "8067fe89",
   "metadata": {},
   "outputs": [],
   "source": []
  }
 ],
 "metadata": {
  "kernelspec": {
   "display_name": "Python 3 (ipykernel)",
   "language": "python",
   "name": "python3"
  },
  "language_info": {
   "codemirror_mode": {
    "name": "ipython",
    "version": 3
   },
   "file_extension": ".py",
   "mimetype": "text/x-python",
   "name": "python",
   "nbconvert_exporter": "python",
   "pygments_lexer": "ipython3",
   "version": "3.9.18"
  }
 },
 "nbformat": 4,
 "nbformat_minor": 5
}
